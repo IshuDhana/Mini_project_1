{
 "cells": [
  {
   "cell_type": "markdown",
   "id": "d6277cfb",
   "metadata": {},
   "source": [
    "#IMPORTING THE HEADERS"
   ]
  },
  {
   "cell_type": "code",
   "execution_count": 1,
   "id": "752a7db7",
   "metadata": {},
   "outputs": [],
   "source": [
    "import pandas as pd\n",
    "import numpy as np\n",
    "import matplotlib.pyplot as plt\n",
    "from sklearn.preprocessing import StandardScaler, MinMaxScaler, OneHotEncoder\n",
    "from sklearn.compose import ColumnTransformer\n",
    "from sklearn.pipeline import Pipeline\n",
    "from sklearn.linear_model import LinearRegression\n",
    "from sklearn.tree import DecisionTreeRegressor\n",
    "from sklearn.ensemble import RandomForestRegressor\n",
    "from sklearn.metrics import mean_squared_error, r2_score"
   ]
  },
  {
   "cell_type": "markdown",
   "id": "8870ece0",
   "metadata": {},
   "source": [
    "#LOAD THE TRAINING.CSV FILE"
   ]
  },
  {
   "cell_type": "code",
   "execution_count": 2,
   "id": "68af6569",
   "metadata": {},
   "outputs": [
    {
     "name": "stdout",
     "output_type": "stream",
     "text": [
      "=== Training Data Preview ===\n",
      "   Unnamed: 0  store_ID  day_of_week        date  nb_customers_on_day  open  \\\n",
      "0      425390       366            4  2013-04-18                  517     1   \n",
      "1      291687       394            6  2015-04-11                  694     1   \n",
      "2      411278       807            4  2013-08-29                  970     1   \n",
      "3      664714       802            2  2013-05-28                  473     1   \n",
      "4      540835       726            4  2013-10-10                 1068     1   \n",
      "\n",
      "   promotion state_holiday  school_holiday  sales  \n",
      "0          0             0               0   4422  \n",
      "1          0             0               0   8297  \n",
      "2          1             0               0   9729  \n",
      "3          1             0               0   6513  \n",
      "4          1             0               0  10882   \n",
      "\n",
      "=== Training Data Info ===\n",
      "<class 'pandas.core.frame.DataFrame'>\n",
      "RangeIndex: 640840 entries, 0 to 640839\n",
      "Data columns (total 10 columns):\n",
      " #   Column               Non-Null Count   Dtype \n",
      "---  ------               --------------   ----- \n",
      " 0   Unnamed: 0           640840 non-null  int64 \n",
      " 1   store_ID             640840 non-null  int64 \n",
      " 2   day_of_week          640840 non-null  int64 \n",
      " 3   date                 640840 non-null  object\n",
      " 4   nb_customers_on_day  640840 non-null  int64 \n",
      " 5   open                 640840 non-null  int64 \n",
      " 6   promotion            640840 non-null  int64 \n",
      " 7   state_holiday        640840 non-null  object\n",
      " 8   school_holiday       640840 non-null  int64 \n",
      " 9   sales                640840 non-null  int64 \n",
      "dtypes: int64(8), object(2)\n",
      "memory usage: 48.9+ MB\n",
      "None \n",
      "\n",
      "=== Summary Statistics ===\n",
      "          Unnamed: 0       store_ID    day_of_week  nb_customers_on_day  \\\n",
      "count  640840.000000  640840.000000  640840.000000        640840.000000   \n",
      "mean   355990.675084     558.211348       4.000189           633.398577   \n",
      "std    205536.290268     321.878521       1.996478           464.094416   \n",
      "min         0.000000       1.000000       1.000000             0.000000   \n",
      "25%    178075.750000     280.000000       2.000000           405.000000   \n",
      "50%    355948.500000     558.000000       4.000000           609.000000   \n",
      "75%    533959.250000     837.000000       6.000000           838.000000   \n",
      "max    712044.000000    1115.000000       7.000000          5458.000000   \n",
      "\n",
      "                open      promotion  school_holiday          sales  \n",
      "count  640840.000000  640840.000000   640840.000000  640840.000000  \n",
      "mean        0.830185       0.381718        0.178472    5777.469011  \n",
      "std         0.375470       0.485808        0.382910    3851.338083  \n",
      "min         0.000000       0.000000        0.000000       0.000000  \n",
      "25%         1.000000       0.000000        0.000000    3731.000000  \n",
      "50%         1.000000       0.000000        0.000000    5746.000000  \n",
      "75%         1.000000       1.000000        0.000000    7860.000000  \n",
      "max         1.000000       1.000000        1.000000   41551.000000   \n",
      "\n"
     ]
    },
    {
     "data": {
      "text/plain": [
       "Unnamed: 0              int64\n",
       "store_ID                int64\n",
       "day_of_week             int64\n",
       "date                   object\n",
       "nb_customers_on_day     int64\n",
       "open                    int64\n",
       "promotion               int64\n",
       "state_holiday          object\n",
       "school_holiday          int64\n",
       "sales                   int64\n",
       "dtype: object"
      ]
     },
     "execution_count": 2,
     "metadata": {},
     "output_type": "execute_result"
    }
   ],
   "source": [
    "df_file = pd.read_csv(\"training.csv\")\n",
    "\n",
    "print(\"=== Training Data Preview ===\")\n",
    "print(df_file.head(), \"\\n\")\n",
    "print(\"=== Training Data Info ===\")\n",
    "print(df_file.info(), \"\\n\")\n",
    "print(\"=== Summary Statistics ===\")\n",
    "print(df_file.describe(), \"\\n\")\n",
    "\n",
    "df_file.dtypes\n"
   ]
  },
  {
   "cell_type": "markdown",
   "id": "6b8e7126",
   "metadata": {},
   "source": [
    "#FINDING THE NULLS AND MISSING VALUES"
   ]
  },
  {
   "cell_type": "code",
   "execution_count": 3,
   "id": "eea424ab",
   "metadata": {},
   "outputs": [
    {
     "data": {
      "text/plain": [
       "Unnamed: 0             0\n",
       "store_ID               0\n",
       "day_of_week            0\n",
       "date                   0\n",
       "nb_customers_on_day    0\n",
       "open                   0\n",
       "promotion              0\n",
       "state_holiday          0\n",
       "school_holiday         0\n",
       "sales                  0\n",
       "dtype: int64"
      ]
     },
     "execution_count": 3,
     "metadata": {},
     "output_type": "execute_result"
    }
   ],
   "source": [
    "df_file.isna().sum()"
   ]
  },
  {
   "cell_type": "code",
   "execution_count": 4,
   "id": "05a9d1a7",
   "metadata": {},
   "outputs": [
    {
     "data": {
      "text/plain": [
       "Unnamed: 0             0\n",
       "store_ID               0\n",
       "day_of_week            0\n",
       "date                   0\n",
       "nb_customers_on_day    0\n",
       "open                   0\n",
       "promotion              0\n",
       "state_holiday          0\n",
       "school_holiday         0\n",
       "sales                  0\n",
       "dtype: int64"
      ]
     },
     "execution_count": 4,
     "metadata": {},
     "output_type": "execute_result"
    }
   ],
   "source": [
    "df_file.isnull().sum()"
   ]
  },
  {
   "cell_type": "code",
   "execution_count": 5,
   "id": "503a9e9b",
   "metadata": {},
   "outputs": [
    {
     "name": "stdout",
     "output_type": "stream",
     "text": [
      "            store_ID    day_of_week                           date  \\\n",
      "count  640840.000000  640840.000000                         640840   \n",
      "mean      558.211348       4.000189  2014-04-11 02:05:13.957931008   \n",
      "min         1.000000       1.000000            2013-01-01 00:00:00   \n",
      "25%       280.000000       2.000000            2013-08-17 00:00:00   \n",
      "50%       558.000000       4.000000            2014-04-02 00:00:00   \n",
      "75%       837.000000       6.000000            2014-12-12 00:00:00   \n",
      "max      1115.000000       7.000000            2015-07-31 00:00:00   \n",
      "std       321.878521       1.996478                            NaN   \n",
      "\n",
      "       nb_customers_on_day           open      promotion  school_holiday  \\\n",
      "count        640840.000000  640840.000000  640840.000000   640840.000000   \n",
      "mean            633.398577       0.830185       0.381718        0.178472   \n",
      "min               0.000000       0.000000       0.000000        0.000000   \n",
      "25%             405.000000       1.000000       0.000000        0.000000   \n",
      "50%             609.000000       1.000000       0.000000        0.000000   \n",
      "75%             838.000000       1.000000       1.000000        0.000000   \n",
      "max            5458.000000       1.000000       1.000000        1.000000   \n",
      "std             464.094416       0.375470       0.485808        0.382910   \n",
      "\n",
      "               sales  \n",
      "count  640840.000000  \n",
      "mean     5777.469011  \n",
      "min         0.000000  \n",
      "25%      3731.000000  \n",
      "50%      5746.000000  \n",
      "75%      7860.000000  \n",
      "max     41551.000000  \n",
      "std      3851.338083  \n"
     ]
    }
   ],
   "source": [
    "#Clean and normalize data: \n",
    "\n",
    "# 1) Drop obvious junk columns (like \"Unnamed: 0\")\n",
    "df_file = df_file.loc[:, ~df_file.columns.str.contains(r'^Unnamed')]\n",
    "\n",
    "# 2) Parse dates\n",
    "df_file['date'] = pd.to_datetime(df_file['date'], errors='coerce')\n",
    "\n",
    "# Normalize text, handle weird values, then encode\n",
    "sh = (df_file['state_holiday']\n",
    "        .astype(str).str.strip().str.lower()\n",
    "        .replace({'false':'0', 'none':'0', 'nan':'0'}))\n",
    "\n",
    "# Option A: keep as a tidy categorical with known levels\n",
    "df_file['state_holiday'] = pd.Categorical(sh, categories=['0','a','b','c'])\n",
    "\n",
    "print(df_file.describe())\n",
    "\n"
   ]
  },
  {
   "cell_type": "code",
   "execution_count": 6,
   "id": "f868f944",
   "metadata": {},
   "outputs": [
    {
     "data": {
      "text/plain": [
       "store_ID               0\n",
       "day_of_week            0\n",
       "date                   0\n",
       "nb_customers_on_day    0\n",
       "open                   0\n",
       "promotion              0\n",
       "state_holiday          0\n",
       "school_holiday         0\n",
       "sales                  0\n",
       "dtype: int64"
      ]
     },
     "execution_count": 6,
     "metadata": {},
     "output_type": "execute_result"
    }
   ],
   "source": [
    "\n",
    "# Example: drop irrelevant columns if present\n",
    "\n",
    "df_file.dropna(subset=[\"date\"], inplace=True)\n",
    "df_file.isna().sum()\n",
    "#df_file.drop(columns=[\"store_ID\"], inplace=True, errors='ignore')\n",
    "#df_file.drop(columns=[\"Unnamed: 0\"], inplace=True, errors='ignore')\n",
    "\n"
   ]
  },
  {
   "cell_type": "markdown",
   "id": "52e8ae9b",
   "metadata": {},
   "source": [
    "# 2. Separate features and target"
   ]
  },
  {
   "cell_type": "code",
   "execution_count": 7,
   "id": "ec0c6982",
   "metadata": {},
   "outputs": [],
   "source": [
    "# Assuming the last column is the target variable 'sales'\n",
    "\n",
    "X = df_file.drop(\"sales\", axis=1)  # All columns except last\n",
    "y = df_file[\"sales\"]     # Last column as target\n",
    "\n"
   ]
  },
  {
   "cell_type": "markdown",
   "id": "908e2f9e",
   "metadata": {},
   "source": [
    "# Feature Scaling"
   ]
  },
  {
   "cell_type": "code",
   "execution_count": 8,
   "id": "87b783f7",
   "metadata": {},
   "outputs": [],
   "source": [
    "\n",
    "scaler = StandardScaler()\n",
    "\n",
    "# Select only numeric columns (excluding 'date')\n",
    "X_numeric = X.drop(columns=['date', 'state_holiday'])\n",
    "\n",
    "# Fit and transform the numeric data\n",
    "X_scaled = scaler.fit_transform(X_numeric)\n",
    "\n",
    "# create a DataFrame with the same column names\n",
    "X_scaled_df = pd.DataFrame(X_scaled, columns=X_numeric.columns)\n",
    "\n",
    "# If you still want to keep the date column, you can reattach it:\n",
    "X_scaled_df = pd.concat([X[['date', 'state_holiday']].reset_index(drop=True), X_scaled_df], axis=1)\n"
   ]
  },
  {
   "cell_type": "markdown",
   "id": "bdadfc3f",
   "metadata": {},
   "source": [
    "# Train/Test Split"
   ]
  },
  {
   "cell_type": "code",
   "execution_count": 9,
   "id": "0fd34e4f",
   "metadata": {},
   "outputs": [],
   "source": [
    "from sklearn.model_selection import train_test_split\n",
    "\n",
    "X_train, X_test, y_train, y_test = train_test_split(X_scaled, y, test_size=0.2, random_state=42)"
   ]
  },
  {
   "cell_type": "markdown",
   "id": "50af8b96",
   "metadata": {},
   "source": [
    "#LinearRegression model creation"
   ]
  },
  {
   "cell_type": "code",
   "execution_count": 10,
   "id": "3d3fd560",
   "metadata": {},
   "outputs": [
    {
     "name": "stderr",
     "output_type": "stream",
     "text": [
      "/Users/dhana/Library/Python/3.9/lib/python/site-packages/sklearn/linear_model/_base.py:279: RuntimeWarning: divide by zero encountered in matmul\n",
      "  return X @ coef_ + self.intercept_\n",
      "/Users/dhana/Library/Python/3.9/lib/python/site-packages/sklearn/linear_model/_base.py:279: RuntimeWarning: overflow encountered in matmul\n",
      "  return X @ coef_ + self.intercept_\n",
      "/Users/dhana/Library/Python/3.9/lib/python/site-packages/sklearn/linear_model/_base.py:279: RuntimeWarning: invalid value encountered in matmul\n",
      "  return X @ coef_ + self.intercept_\n"
     ]
    }
   ],
   "source": [
    "model = LinearRegression()\n",
    "model.fit(X_train, y_train)\n",
    "y_pred = model.predict(X_test)\n",
    "\n"
   ]
  },
  {
   "cell_type": "code",
   "execution_count": 11,
   "id": "4973999d",
   "metadata": {},
   "outputs": [
    {
     "name": "stdout",
     "output_type": "stream",
     "text": [
      "Intercept: 5778.2247951062445\n",
      "\n",
      "Coefficients: [ -46.57158123 -111.95467981 2823.08862825  627.34964717  620.87969028\n",
      "    6.77278655]\n"
     ]
    }
   ],
   "source": [
    "coefficients = model.coef_\n",
    "intercept = model.intercept_\n",
    "\n",
    "print(\"Intercept:\", intercept)\n",
    "print(\"\\nCoefficients:\", coefficients)"
   ]
  },
  {
   "cell_type": "markdown",
   "id": "0475a58b",
   "metadata": {},
   "source": [
    "#Evaluation"
   ]
  },
  {
   "cell_type": "code",
   "execution_count": 12,
   "id": "3cb23e76",
   "metadata": {},
   "outputs": [
    {
     "name": "stdout",
     "output_type": "stream",
     "text": [
      "Train/Test Split Evaluation:\n",
      "MSE: 2216130.38246623\n",
      "MAE: 992.2926713242832\n",
      "R2: 0.8500756894871744\n"
     ]
    }
   ],
   "source": [
    "from sklearn.metrics import mean_absolute_error\n",
    "# Evaluate\n",
    "print(\"Train/Test Split Evaluation:\")\n",
    "print(\"MSE:\", mean_squared_error(y_test, y_pred))\n",
    "\n",
    "print(\"MAE:\", mean_absolute_error(y_test, y_pred))\n",
    "\n",
    "print(\"R2:\", r2_score(y_test, y_pred))"
   ]
  },
  {
   "cell_type": "markdown",
   "id": "f62ed753",
   "metadata": {},
   "source": [
    "'K-FOLD CROSS VALIDATION MODULE CHECK"
   ]
  },
  {
   "cell_type": "code",
   "execution_count": 13,
   "id": "fbb28cfe",
   "metadata": {},
   "outputs": [
    {
     "name": "stderr",
     "output_type": "stream",
     "text": [
      "/Users/dhana/Library/Python/3.9/lib/python/site-packages/sklearn/linear_model/_base.py:279: RuntimeWarning: divide by zero encountered in matmul\n",
      "  return X @ coef_ + self.intercept_\n",
      "/Users/dhana/Library/Python/3.9/lib/python/site-packages/sklearn/linear_model/_base.py:279: RuntimeWarning: overflow encountered in matmul\n",
      "  return X @ coef_ + self.intercept_\n",
      "/Users/dhana/Library/Python/3.9/lib/python/site-packages/sklearn/linear_model/_base.py:279: RuntimeWarning: invalid value encountered in matmul\n",
      "  return X @ coef_ + self.intercept_\n",
      "/Users/dhana/Library/Python/3.9/lib/python/site-packages/sklearn/linear_model/_base.py:279: RuntimeWarning: divide by zero encountered in matmul\n",
      "  return X @ coef_ + self.intercept_\n",
      "/Users/dhana/Library/Python/3.9/lib/python/site-packages/sklearn/linear_model/_base.py:279: RuntimeWarning: overflow encountered in matmul\n",
      "  return X @ coef_ + self.intercept_\n",
      "/Users/dhana/Library/Python/3.9/lib/python/site-packages/sklearn/linear_model/_base.py:279: RuntimeWarning: invalid value encountered in matmul\n",
      "  return X @ coef_ + self.intercept_\n",
      "/Users/dhana/Library/Python/3.9/lib/python/site-packages/sklearn/linear_model/_base.py:279: RuntimeWarning: divide by zero encountered in matmul\n",
      "  return X @ coef_ + self.intercept_\n",
      "/Users/dhana/Library/Python/3.9/lib/python/site-packages/sklearn/linear_model/_base.py:279: RuntimeWarning: overflow encountered in matmul\n",
      "  return X @ coef_ + self.intercept_\n",
      "/Users/dhana/Library/Python/3.9/lib/python/site-packages/sklearn/linear_model/_base.py:279: RuntimeWarning: invalid value encountered in matmul\n",
      "  return X @ coef_ + self.intercept_\n",
      "/Users/dhana/Library/Python/3.9/lib/python/site-packages/sklearn/linear_model/_base.py:279: RuntimeWarning: divide by zero encountered in matmul\n",
      "  return X @ coef_ + self.intercept_\n",
      "/Users/dhana/Library/Python/3.9/lib/python/site-packages/sklearn/linear_model/_base.py:279: RuntimeWarning: overflow encountered in matmul\n",
      "  return X @ coef_ + self.intercept_\n",
      "/Users/dhana/Library/Python/3.9/lib/python/site-packages/sklearn/linear_model/_base.py:279: RuntimeWarning: invalid value encountered in matmul\n",
      "  return X @ coef_ + self.intercept_\n",
      "/Users/dhana/Library/Python/3.9/lib/python/site-packages/sklearn/linear_model/_base.py:279: RuntimeWarning: divide by zero encountered in matmul\n",
      "  return X @ coef_ + self.intercept_\n",
      "/Users/dhana/Library/Python/3.9/lib/python/site-packages/sklearn/linear_model/_base.py:279: RuntimeWarning: overflow encountered in matmul\n",
      "  return X @ coef_ + self.intercept_\n",
      "/Users/dhana/Library/Python/3.9/lib/python/site-packages/sklearn/linear_model/_base.py:279: RuntimeWarning: invalid value encountered in matmul\n",
      "  return X @ coef_ + self.intercept_\n",
      "/Users/dhana/Library/Python/3.9/lib/python/site-packages/sklearn/linear_model/_base.py:279: RuntimeWarning: divide by zero encountered in matmul\n",
      "  return X @ coef_ + self.intercept_\n",
      "/Users/dhana/Library/Python/3.9/lib/python/site-packages/sklearn/linear_model/_base.py:279: RuntimeWarning: overflow encountered in matmul\n",
      "  return X @ coef_ + self.intercept_\n",
      "/Users/dhana/Library/Python/3.9/lib/python/site-packages/sklearn/linear_model/_base.py:279: RuntimeWarning: invalid value encountered in matmul\n",
      "  return X @ coef_ + self.intercept_\n",
      "/Users/dhana/Library/Python/3.9/lib/python/site-packages/sklearn/linear_model/_base.py:279: RuntimeWarning: divide by zero encountered in matmul\n",
      "  return X @ coef_ + self.intercept_\n",
      "/Users/dhana/Library/Python/3.9/lib/python/site-packages/sklearn/linear_model/_base.py:279: RuntimeWarning: overflow encountered in matmul\n",
      "  return X @ coef_ + self.intercept_\n",
      "/Users/dhana/Library/Python/3.9/lib/python/site-packages/sklearn/linear_model/_base.py:279: RuntimeWarning: invalid value encountered in matmul\n",
      "  return X @ coef_ + self.intercept_\n"
     ]
    },
    {
     "name": "stdout",
     "output_type": "stream",
     "text": [
      "\n",
      "K-Fold Cross Validation (5 folds):\n",
      "Average MSE: 2191760.3374021566\n",
      "Average R2: 0.8522335896131737\n"
     ]
    },
    {
     "name": "stderr",
     "output_type": "stream",
     "text": [
      "/Users/dhana/Library/Python/3.9/lib/python/site-packages/sklearn/linear_model/_base.py:279: RuntimeWarning: divide by zero encountered in matmul\n",
      "  return X @ coef_ + self.intercept_\n",
      "/Users/dhana/Library/Python/3.9/lib/python/site-packages/sklearn/linear_model/_base.py:279: RuntimeWarning: overflow encountered in matmul\n",
      "  return X @ coef_ + self.intercept_\n",
      "/Users/dhana/Library/Python/3.9/lib/python/site-packages/sklearn/linear_model/_base.py:279: RuntimeWarning: invalid value encountered in matmul\n",
      "  return X @ coef_ + self.intercept_\n",
      "/Users/dhana/Library/Python/3.9/lib/python/site-packages/sklearn/linear_model/_base.py:279: RuntimeWarning: divide by zero encountered in matmul\n",
      "  return X @ coef_ + self.intercept_\n",
      "/Users/dhana/Library/Python/3.9/lib/python/site-packages/sklearn/linear_model/_base.py:279: RuntimeWarning: overflow encountered in matmul\n",
      "  return X @ coef_ + self.intercept_\n",
      "/Users/dhana/Library/Python/3.9/lib/python/site-packages/sklearn/linear_model/_base.py:279: RuntimeWarning: invalid value encountered in matmul\n",
      "  return X @ coef_ + self.intercept_\n",
      "/Users/dhana/Library/Python/3.9/lib/python/site-packages/sklearn/linear_model/_base.py:279: RuntimeWarning: divide by zero encountered in matmul\n",
      "  return X @ coef_ + self.intercept_\n",
      "/Users/dhana/Library/Python/3.9/lib/python/site-packages/sklearn/linear_model/_base.py:279: RuntimeWarning: overflow encountered in matmul\n",
      "  return X @ coef_ + self.intercept_\n",
      "/Users/dhana/Library/Python/3.9/lib/python/site-packages/sklearn/linear_model/_base.py:279: RuntimeWarning: invalid value encountered in matmul\n",
      "  return X @ coef_ + self.intercept_\n"
     ]
    }
   ],
   "source": [
    "from sklearn.model_selection import train_test_split, cross_val_score, KFold\n",
    "\n",
    "kf = KFold(n_splits=5, shuffle=True, random_state=42)\n",
    "mse_scores = -cross_val_score(model, X_scaled, y, cv=kf, scoring='neg_mean_squared_error')\n",
    "r2_scores = cross_val_score(model, X_scaled, y, cv=kf, scoring='r2')\n",
    "\n",
    "print(\"\\nK-Fold Cross Validation (5 folds):\")\n",
    "print(\"Average MSE:\", mse_scores.mean())\n",
    "print(\"Average R2:\", r2_scores.mean())"
   ]
  },
  {
   "cell_type": "markdown",
   "id": "fbf5e4b1",
   "metadata": {},
   "source": [
    "#Validating with the REAL_DATA"
   ]
  },
  {
   "cell_type": "code",
   "execution_count": 34,
   "id": "644164cd",
   "metadata": {},
   "outputs": [
    {
     "name": "stdout",
     "output_type": "stream",
     "text": [
      "index                  0\n",
      "store_ID               0\n",
      "day_of_week            0\n",
      "date                   0\n",
      "nb_customers_on_day    0\n",
      "open                   0\n",
      "promotion              0\n",
      "state_holiday          0\n",
      "school_holiday         0\n",
      "dtype: int64\n",
      "index                  0\n",
      "store_ID               0\n",
      "day_of_week            0\n",
      "date                   0\n",
      "nb_customers_on_day    0\n",
      "open                   0\n",
      "promotion              0\n",
      "state_holiday          0\n",
      "school_holiday         0\n",
      "dtype: int64\n",
      "               index      store_ID   day_of_week  \\\n",
      "count   28387.000000  28387.000000  28387.000000   \n",
      "mean   355927.439145    559.510234      3.992990   \n",
      "min        56.000000      1.000000      1.000000   \n",
      "25%    177538.000000    282.000000      2.000000   \n",
      "50%    355264.000000    558.000000      4.000000   \n",
      "75%    535662.500000    839.500000      6.000000   \n",
      "max    711965.000000   1115.000000      7.000000   \n",
      "std    206016.278028    321.677601      1.999679   \n",
      "\n",
      "                                date  nb_customers_on_day          open  \\\n",
      "count                          28387         28387.000000  28387.000000   \n",
      "mean   2014-04-22 17:55:31.398175232           630.668933      0.817346   \n",
      "min              2013-01-01 00:00:00             0.000000      0.000000   \n",
      "25%              2013-08-08 00:00:00           394.000000      1.000000   \n",
      "50%              2014-04-05 00:00:00           613.000000      1.000000   \n",
      "75%              2014-12-06 00:00:00           844.000000      1.000000   \n",
      "max              2015-12-07 00:00:00          5494.000000      1.000000   \n",
      "std                              NaN           471.311486      0.386389   \n",
      "\n",
      "          promotion  school_holiday  \n",
      "count  28387.000000    28387.000000  \n",
      "mean       0.409448        0.175996  \n",
      "min        0.000000        0.000000  \n",
      "25%        0.000000        0.000000  \n",
      "50%        0.000000        0.000000  \n",
      "75%        1.000000        0.000000  \n",
      "max        1.000000        1.000000  \n",
      "std        0.491741        0.380824  \n"
     ]
    }
   ],
   "source": [
    "df_real_file = pd.read_csv(\"REAL_DATA.csv\")\n",
    "\n",
    "df_real_file.dropna(subset=[\"date\"], inplace=True)\n",
    "df_real_file.isna().sum()\n",
    "\n",
    "#Clean and normalize data: \n",
    "\n",
    "# 1) Drop obvious junk columns (like \"Unnamed: 0\")\n",
    "df_real_file = df_real_file.loc[:, ~df_real_file.columns.str.contains(r'^Unnamed')]\n",
    "\n",
    "# 2) Parse dates\n",
    "\n",
    "print(df_real_file.isna().sum())\n",
    "\n",
    "df_real_file['date'] = pd.to_datetime(df_real_file['date'], errors='coerce')\n",
    "df_real_file.dropna(subset=[\"date\"], inplace=True)\n",
    "print(df_real_file.isna().sum())\n",
    "\n",
    "# Normalize text, handle weird values, then encode\n",
    "sh = (df_real_file['state_holiday']\n",
    "        .astype(str).str.strip().str.lower()\n",
    "        .replace({'false':'0', 'none':'0', 'nan':'0'}))\n",
    "\n",
    "# Option A: keep as a tidy categorical with known levels\n",
    "df_real_file['state_holiday'] = pd.Categorical(sh, categories=['0','a','b','c'])\n",
    "\n",
    "print(df_real_file.describe())\n",
    "\n"
   ]
  },
  {
   "cell_type": "code",
   "execution_count": 44,
   "id": "287de7df",
   "metadata": {},
   "outputs": [],
   "source": [
    "X_real = df_real_file"
   ]
  },
  {
   "cell_type": "code",
   "execution_count": 48,
   "id": "64f6b6d4",
   "metadata": {},
   "outputs": [
    {
     "name": "stdout",
     "output_type": "stream",
     "text": [
      "               index      store_ID   day_of_week  \\\n",
      "count   28387.000000  28387.000000  28387.000000   \n",
      "mean   355927.439145    559.510234      3.992990   \n",
      "min        56.000000      1.000000      1.000000   \n",
      "25%    177538.000000    282.000000      2.000000   \n",
      "50%    355264.000000    558.000000      4.000000   \n",
      "75%    535662.500000    839.500000      6.000000   \n",
      "max    711965.000000   1115.000000      7.000000   \n",
      "std    206016.278028    321.677601      1.999679   \n",
      "\n",
      "                                date  nb_customers_on_day          open  \\\n",
      "count                          28387         28387.000000  28387.000000   \n",
      "mean   2014-04-22 17:55:31.398175232           630.668933      0.817346   \n",
      "min              2013-01-01 00:00:00             0.000000      0.000000   \n",
      "25%              2013-08-08 00:00:00           394.000000      1.000000   \n",
      "50%              2014-04-05 00:00:00           613.000000      1.000000   \n",
      "75%              2014-12-06 00:00:00           844.000000      1.000000   \n",
      "max              2015-12-07 00:00:00          5494.000000      1.000000   \n",
      "std                              NaN           471.311486      0.386389   \n",
      "\n",
      "          promotion  school_holiday  \n",
      "count  28387.000000    28387.000000  \n",
      "mean       0.409448        0.175996  \n",
      "min        0.000000        0.000000  \n",
      "25%        0.000000        0.000000  \n",
      "50%        0.000000        0.000000  \n",
      "75%        1.000000        0.000000  \n",
      "max        1.000000        1.000000  \n",
      "std        0.491741        0.380824  \n"
     ]
    }
   ],
   "source": [
    "\n",
    "scaler = StandardScaler()\n",
    "\n",
    "# Select only numeric columns (excluding 'date')\n",
    "X_real_numeric = X_real.drop(columns=['date', 'state_holiday'])\n",
    "\n",
    "# Fit and transform the numeric data\n",
    "X_real_scaled = scaler.fit_transform(X_real_numeric)\n",
    "\n",
    "# create a DataFrame with the same column names\n",
    "X_real_scaled_df = pd.DataFrame(X_real_scaled, columns=X_real_numeric.columns)\n",
    "\n",
    "# If you still want to keep the date column, you can reattach it:\n",
    "X_real_scaled_df = pd.concat([X_real[['date', 'state_holiday']].reset_index(drop=True), X_real_scaled_df], axis=1)\n",
    "\n",
    "print(pd.DataFrame(X_real).describe())\n",
    "\n",
    "\n",
    "\n",
    "\n"
   ]
  },
  {
   "cell_type": "code",
   "execution_count": null,
   "id": "c187ed9b",
   "metadata": {},
   "outputs": [
    {
     "ename": "ValueError",
     "evalue": "X has 7 features, but LinearRegression is expecting 6 features as input.",
     "output_type": "error",
     "traceback": [
      "\u001b[0;31m---------------------------------------------------------------------------\u001b[0m",
      "\u001b[0;31mValueError\u001b[0m                                Traceback (most recent call last)",
      "Cell \u001b[0;32mIn[47], line 1\u001b[0m\n\u001b[0;32m----> 1\u001b[0m df_real_file[\u001b[38;5;124m\"\u001b[39m\u001b[38;5;124msales\u001b[39m\u001b[38;5;124m\"\u001b[39m] \u001b[38;5;241m=\u001b[39m \u001b[43mmodel\u001b[49m\u001b[38;5;241;43m.\u001b[39;49m\u001b[43mpredict\u001b[49m\u001b[43m(\u001b[49m\u001b[43mX_real_scaled\u001b[49m\u001b[43m)\u001b[49m\n\u001b[1;32m      3\u001b[0m df_real_file\u001b[38;5;241m.\u001b[39misna()\u001b[38;5;241m.\u001b[39msum()\n",
      "File \u001b[0;32m~/Library/Python/3.9/lib/python/site-packages/sklearn/linear_model/_base.py:297\u001b[0m, in \u001b[0;36mLinearModel.predict\u001b[0;34m(self, X)\u001b[0m\n\u001b[1;32m    283\u001b[0m \u001b[38;5;28;01mdef\u001b[39;00m\u001b[38;5;250m \u001b[39m\u001b[38;5;21mpredict\u001b[39m(\u001b[38;5;28mself\u001b[39m, X):\n\u001b[1;32m    284\u001b[0m \u001b[38;5;250m    \u001b[39m\u001b[38;5;124;03m\"\"\"\u001b[39;00m\n\u001b[1;32m    285\u001b[0m \u001b[38;5;124;03m    Predict using the linear model.\u001b[39;00m\n\u001b[1;32m    286\u001b[0m \n\u001b[0;32m   (...)\u001b[0m\n\u001b[1;32m    295\u001b[0m \u001b[38;5;124;03m        Returns predicted values.\u001b[39;00m\n\u001b[1;32m    296\u001b[0m \u001b[38;5;124;03m    \"\"\"\u001b[39;00m\n\u001b[0;32m--> 297\u001b[0m     \u001b[38;5;28;01mreturn\u001b[39;00m \u001b[38;5;28;43mself\u001b[39;49m\u001b[38;5;241;43m.\u001b[39;49m\u001b[43m_decision_function\u001b[49m\u001b[43m(\u001b[49m\u001b[43mX\u001b[49m\u001b[43m)\u001b[49m\n",
      "File \u001b[0;32m~/Library/Python/3.9/lib/python/site-packages/sklearn/linear_model/_base.py:276\u001b[0m, in \u001b[0;36mLinearModel._decision_function\u001b[0;34m(self, X)\u001b[0m\n\u001b[1;32m    273\u001b[0m \u001b[38;5;28;01mdef\u001b[39;00m\u001b[38;5;250m \u001b[39m\u001b[38;5;21m_decision_function\u001b[39m(\u001b[38;5;28mself\u001b[39m, X):\n\u001b[1;32m    274\u001b[0m     check_is_fitted(\u001b[38;5;28mself\u001b[39m)\n\u001b[0;32m--> 276\u001b[0m     X \u001b[38;5;241m=\u001b[39m \u001b[43mvalidate_data\u001b[49m\u001b[43m(\u001b[49m\u001b[38;5;28;43mself\u001b[39;49m\u001b[43m,\u001b[49m\u001b[43m \u001b[49m\u001b[43mX\u001b[49m\u001b[43m,\u001b[49m\u001b[43m \u001b[49m\u001b[43maccept_sparse\u001b[49m\u001b[38;5;241;43m=\u001b[39;49m\u001b[43m[\u001b[49m\u001b[38;5;124;43m\"\u001b[39;49m\u001b[38;5;124;43mcsr\u001b[39;49m\u001b[38;5;124;43m\"\u001b[39;49m\u001b[43m,\u001b[49m\u001b[43m \u001b[49m\u001b[38;5;124;43m\"\u001b[39;49m\u001b[38;5;124;43mcsc\u001b[39;49m\u001b[38;5;124;43m\"\u001b[39;49m\u001b[43m,\u001b[49m\u001b[43m \u001b[49m\u001b[38;5;124;43m\"\u001b[39;49m\u001b[38;5;124;43mcoo\u001b[39;49m\u001b[38;5;124;43m\"\u001b[39;49m\u001b[43m]\u001b[49m\u001b[43m,\u001b[49m\u001b[43m \u001b[49m\u001b[43mreset\u001b[49m\u001b[38;5;241;43m=\u001b[39;49m\u001b[38;5;28;43;01mFalse\u001b[39;49;00m\u001b[43m)\u001b[49m\n\u001b[1;32m    277\u001b[0m     coef_ \u001b[38;5;241m=\u001b[39m \u001b[38;5;28mself\u001b[39m\u001b[38;5;241m.\u001b[39mcoef_\n\u001b[1;32m    278\u001b[0m     \u001b[38;5;28;01mif\u001b[39;00m coef_\u001b[38;5;241m.\u001b[39mndim \u001b[38;5;241m==\u001b[39m \u001b[38;5;241m1\u001b[39m:\n",
      "File \u001b[0;32m~/Library/Python/3.9/lib/python/site-packages/sklearn/utils/validation.py:2965\u001b[0m, in \u001b[0;36mvalidate_data\u001b[0;34m(_estimator, X, y, reset, validate_separately, skip_check_array, **check_params)\u001b[0m\n\u001b[1;32m   2962\u001b[0m     out \u001b[38;5;241m=\u001b[39m X, y\n\u001b[1;32m   2964\u001b[0m \u001b[38;5;28;01mif\u001b[39;00m \u001b[38;5;129;01mnot\u001b[39;00m no_val_X \u001b[38;5;129;01mand\u001b[39;00m check_params\u001b[38;5;241m.\u001b[39mget(\u001b[38;5;124m\"\u001b[39m\u001b[38;5;124mensure_2d\u001b[39m\u001b[38;5;124m\"\u001b[39m, \u001b[38;5;28;01mTrue\u001b[39;00m):\n\u001b[0;32m-> 2965\u001b[0m     \u001b[43m_check_n_features\u001b[49m\u001b[43m(\u001b[49m\u001b[43m_estimator\u001b[49m\u001b[43m,\u001b[49m\u001b[43m \u001b[49m\u001b[43mX\u001b[49m\u001b[43m,\u001b[49m\u001b[43m \u001b[49m\u001b[43mreset\u001b[49m\u001b[38;5;241;43m=\u001b[39;49m\u001b[43mreset\u001b[49m\u001b[43m)\u001b[49m\n\u001b[1;32m   2967\u001b[0m \u001b[38;5;28;01mreturn\u001b[39;00m out\n",
      "File \u001b[0;32m~/Library/Python/3.9/lib/python/site-packages/sklearn/utils/validation.py:2829\u001b[0m, in \u001b[0;36m_check_n_features\u001b[0;34m(estimator, X, reset)\u001b[0m\n\u001b[1;32m   2826\u001b[0m     \u001b[38;5;28;01mreturn\u001b[39;00m\n\u001b[1;32m   2828\u001b[0m \u001b[38;5;28;01mif\u001b[39;00m n_features \u001b[38;5;241m!=\u001b[39m estimator\u001b[38;5;241m.\u001b[39mn_features_in_:\n\u001b[0;32m-> 2829\u001b[0m     \u001b[38;5;28;01mraise\u001b[39;00m \u001b[38;5;167;01mValueError\u001b[39;00m(\n\u001b[1;32m   2830\u001b[0m         \u001b[38;5;124mf\u001b[39m\u001b[38;5;124m\"\u001b[39m\u001b[38;5;124mX has \u001b[39m\u001b[38;5;132;01m{\u001b[39;00mn_features\u001b[38;5;132;01m}\u001b[39;00m\u001b[38;5;124m features, but \u001b[39m\u001b[38;5;132;01m{\u001b[39;00mestimator\u001b[38;5;241m.\u001b[39m\u001b[38;5;18m__class__\u001b[39m\u001b[38;5;241m.\u001b[39m\u001b[38;5;18m__name__\u001b[39m\u001b[38;5;132;01m}\u001b[39;00m\u001b[38;5;124m \u001b[39m\u001b[38;5;124m\"\u001b[39m\n\u001b[1;32m   2831\u001b[0m         \u001b[38;5;124mf\u001b[39m\u001b[38;5;124m\"\u001b[39m\u001b[38;5;124mis expecting \u001b[39m\u001b[38;5;132;01m{\u001b[39;00mestimator\u001b[38;5;241m.\u001b[39mn_features_in_\u001b[38;5;132;01m}\u001b[39;00m\u001b[38;5;124m features as input.\u001b[39m\u001b[38;5;124m\"\u001b[39m\n\u001b[1;32m   2832\u001b[0m     )\n",
      "\u001b[0;31mValueError\u001b[0m: X has 7 features, but LinearRegression is expecting 6 features as input."
     ]
    }
   ],
   "source": [
    "df_real_file[\"sales\"] = model.predict(X_real_scaled)\n",
    "\n",
    "\n",
    "df_real_file.isna().sum()"
   ]
  },
  {
   "cell_type": "code",
   "execution_count": null,
   "id": "add7d6db",
   "metadata": {},
   "outputs": [],
   "source": []
  }
 ],
 "metadata": {
  "kernelspec": {
   "display_name": "Python 3",
   "language": "python",
   "name": "python3"
  },
  "language_info": {
   "codemirror_mode": {
    "name": "ipython",
    "version": 3
   },
   "file_extension": ".py",
   "mimetype": "text/x-python",
   "name": "python",
   "nbconvert_exporter": "python",
   "pygments_lexer": "ipython3",
   "version": "3.9.6"
  }
 },
 "nbformat": 4,
 "nbformat_minor": 5
}
