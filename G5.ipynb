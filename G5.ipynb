{
 "cells": [
  {
   "cell_type": "markdown",
   "id": "d6277cfb",
   "metadata": {},
   "source": [
    "# Importing the libraries used in the code"
   ]
  },
  {
   "cell_type": "code",
   "execution_count": 1,
   "id": "752a7db7",
   "metadata": {},
   "outputs": [],
   "source": [
    "import pandas as pd\n",
    "import numpy as np\n",
    "import matplotlib.pyplot as plt\n",
    "from sklearn.preprocessing import StandardScaler, MinMaxScaler, OneHotEncoder\n",
    "from sklearn.compose import ColumnTransformer\n",
    "from sklearn.pipeline import Pipeline\n",
    "from sklearn.linear_model import LinearRegression\n",
    "from sklearn.tree import DecisionTreeRegressor\n",
    "from sklearn.ensemble import RandomForestRegressor\n",
    "from sklearn.metrics import mean_squared_error, r2_score"
   ]
  },
  {
   "cell_type": "markdown",
   "id": "8870ece0",
   "metadata": {},
   "source": [
    "# Load the training Data and Checking data"
   ]
  },
  {
   "cell_type": "code",
   "execution_count": null,
   "id": "68af6569",
   "metadata": {},
   "outputs": [
    {
     "name": "stdout",
     "output_type": "stream",
     "text": [
      "=== Training Data Preview ===\n",
      "   Unnamed: 0  store_ID  day_of_week        date  nb_customers_on_day  open  \\\n",
      "0      425390       366            4  2013-04-18                  517     1   \n",
      "1      291687       394            6  2015-04-11                  694     1   \n",
      "2      411278       807            4  2013-08-29                  970     1   \n",
      "3      664714       802            2  2013-05-28                  473     1   \n",
      "4      540835       726            4  2013-10-10                 1068     1   \n",
      "\n",
      "   promotion state_holiday  school_holiday  sales  \n",
      "0          0             0               0   4422  \n",
      "1          0             0               0   8297  \n",
      "2          1             0               0   9729  \n",
      "3          1             0               0   6513  \n",
      "4          1             0               0  10882   \n",
      "\n",
      "=== Training Data Info ===\n",
      "<class 'pandas.core.frame.DataFrame'>\n",
      "RangeIndex: 640840 entries, 0 to 640839\n",
      "Data columns (total 10 columns):\n",
      " #   Column               Non-Null Count   Dtype \n",
      "---  ------               --------------   ----- \n",
      " 0   Unnamed: 0           640840 non-null  int64 \n",
      " 1   store_ID             640840 non-null  int64 \n",
      " 2   day_of_week          640840 non-null  int64 \n",
      " 3   date                 640840 non-null  object\n",
      " 4   nb_customers_on_day  640840 non-null  int64 \n",
      " 5   open                 640840 non-null  int64 \n",
      " 6   promotion            640840 non-null  int64 \n",
      " 7   state_holiday        640840 non-null  object\n",
      " 8   school_holiday       640840 non-null  int64 \n",
      " 9   sales                640840 non-null  int64 \n",
      "dtypes: int64(8), object(2)\n",
      "memory usage: 48.9+ MB\n",
      "None \n",
      "\n",
      "=== Summary Statistics ===\n",
      "          Unnamed: 0       store_ID    day_of_week  nb_customers_on_day  \\\n",
      "count  640840.000000  640840.000000  640840.000000        640840.000000   \n",
      "mean   355990.675084     558.211348       4.000189           633.398577   \n",
      "std    205536.290268     321.878521       1.996478           464.094416   \n",
      "min         0.000000       1.000000       1.000000             0.000000   \n",
      "25%    178075.750000     280.000000       2.000000           405.000000   \n",
      "50%    355948.500000     558.000000       4.000000           609.000000   \n",
      "75%    533959.250000     837.000000       6.000000           838.000000   \n",
      "max    712044.000000    1115.000000       7.000000          5458.000000   \n",
      "\n",
      "                open      promotion  school_holiday          sales  \n",
      "count  640840.000000  640840.000000   640840.000000  640840.000000  \n",
      "mean        0.830185       0.381718        0.178472    5777.469011  \n",
      "std         0.375470       0.485808        0.382910    3851.338083  \n",
      "min         0.000000       0.000000        0.000000       0.000000  \n",
      "25%         1.000000       0.000000        0.000000    3731.000000  \n",
      "50%         1.000000       0.000000        0.000000    5746.000000  \n",
      "75%         1.000000       1.000000        0.000000    7860.000000  \n",
      "max         1.000000       1.000000        1.000000   41551.000000   \n",
      "\n"
     ]
    },
    {
     "data": {
      "application/vnd.microsoft.datawrangler.viewer.v0+json": {
       "columns": [
        {
         "name": "index",
         "rawType": "int64",
         "type": "integer"
        },
        {
         "name": "Unnamed: 0",
         "rawType": "int64",
         "type": "integer"
        },
        {
         "name": "store_ID",
         "rawType": "int64",
         "type": "integer"
        },
        {
         "name": "day_of_week",
         "rawType": "int64",
         "type": "integer"
        },
        {
         "name": "date",
         "rawType": "object",
         "type": "string"
        },
        {
         "name": "nb_customers_on_day",
         "rawType": "int64",
         "type": "integer"
        },
        {
         "name": "open",
         "rawType": "int64",
         "type": "integer"
        },
        {
         "name": "promotion",
         "rawType": "int64",
         "type": "integer"
        },
        {
         "name": "state_holiday",
         "rawType": "object",
         "type": "string"
        },
        {
         "name": "school_holiday",
         "rawType": "int64",
         "type": "integer"
        },
        {
         "name": "sales",
         "rawType": "int64",
         "type": "integer"
        }
       ],
       "ref": "cfba4c6d-457b-4db6-815f-a58380c49769",
       "rows": [
        [
         "0",
         "425390",
         "366",
         "4",
         "2013-04-18",
         "517",
         "1",
         "0",
         "0",
         "0",
         "4422"
        ],
        [
         "1",
         "291687",
         "394",
         "6",
         "2015-04-11",
         "694",
         "1",
         "0",
         "0",
         "0",
         "8297"
        ],
        [
         "2",
         "411278",
         "807",
         "4",
         "2013-08-29",
         "970",
         "1",
         "1",
         "0",
         "0",
         "9729"
        ],
        [
         "3",
         "664714",
         "802",
         "2",
         "2013-05-28",
         "473",
         "1",
         "1",
         "0",
         "0",
         "6513"
        ],
        [
         "4",
         "540835",
         "726",
         "4",
         "2013-10-10",
         "1068",
         "1",
         "1",
         "0",
         "0",
         "10882"
        ]
       ],
       "shape": {
        "columns": 10,
        "rows": 5
       }
      },
      "text/html": [
       "<div>\n",
       "<style scoped>\n",
       "    .dataframe tbody tr th:only-of-type {\n",
       "        vertical-align: middle;\n",
       "    }\n",
       "\n",
       "    .dataframe tbody tr th {\n",
       "        vertical-align: top;\n",
       "    }\n",
       "\n",
       "    .dataframe thead th {\n",
       "        text-align: right;\n",
       "    }\n",
       "</style>\n",
       "<table border=\"1\" class=\"dataframe\">\n",
       "  <thead>\n",
       "    <tr style=\"text-align: right;\">\n",
       "      <th></th>\n",
       "      <th>Unnamed: 0</th>\n",
       "      <th>store_ID</th>\n",
       "      <th>day_of_week</th>\n",
       "      <th>date</th>\n",
       "      <th>nb_customers_on_day</th>\n",
       "      <th>open</th>\n",
       "      <th>promotion</th>\n",
       "      <th>state_holiday</th>\n",
       "      <th>school_holiday</th>\n",
       "      <th>sales</th>\n",
       "    </tr>\n",
       "  </thead>\n",
       "  <tbody>\n",
       "    <tr>\n",
       "      <th>0</th>\n",
       "      <td>425390</td>\n",
       "      <td>366</td>\n",
       "      <td>4</td>\n",
       "      <td>2013-04-18</td>\n",
       "      <td>517</td>\n",
       "      <td>1</td>\n",
       "      <td>0</td>\n",
       "      <td>0</td>\n",
       "      <td>0</td>\n",
       "      <td>4422</td>\n",
       "    </tr>\n",
       "    <tr>\n",
       "      <th>1</th>\n",
       "      <td>291687</td>\n",
       "      <td>394</td>\n",
       "      <td>6</td>\n",
       "      <td>2015-04-11</td>\n",
       "      <td>694</td>\n",
       "      <td>1</td>\n",
       "      <td>0</td>\n",
       "      <td>0</td>\n",
       "      <td>0</td>\n",
       "      <td>8297</td>\n",
       "    </tr>\n",
       "    <tr>\n",
       "      <th>2</th>\n",
       "      <td>411278</td>\n",
       "      <td>807</td>\n",
       "      <td>4</td>\n",
       "      <td>2013-08-29</td>\n",
       "      <td>970</td>\n",
       "      <td>1</td>\n",
       "      <td>1</td>\n",
       "      <td>0</td>\n",
       "      <td>0</td>\n",
       "      <td>9729</td>\n",
       "    </tr>\n",
       "    <tr>\n",
       "      <th>3</th>\n",
       "      <td>664714</td>\n",
       "      <td>802</td>\n",
       "      <td>2</td>\n",
       "      <td>2013-05-28</td>\n",
       "      <td>473</td>\n",
       "      <td>1</td>\n",
       "      <td>1</td>\n",
       "      <td>0</td>\n",
       "      <td>0</td>\n",
       "      <td>6513</td>\n",
       "    </tr>\n",
       "    <tr>\n",
       "      <th>4</th>\n",
       "      <td>540835</td>\n",
       "      <td>726</td>\n",
       "      <td>4</td>\n",
       "      <td>2013-10-10</td>\n",
       "      <td>1068</td>\n",
       "      <td>1</td>\n",
       "      <td>1</td>\n",
       "      <td>0</td>\n",
       "      <td>0</td>\n",
       "      <td>10882</td>\n",
       "    </tr>\n",
       "  </tbody>\n",
       "</table>\n",
       "</div>"
      ],
      "text/plain": [
       "   Unnamed: 0  store_ID  day_of_week        date  nb_customers_on_day  open  \\\n",
       "0      425390       366            4  2013-04-18                  517     1   \n",
       "1      291687       394            6  2015-04-11                  694     1   \n",
       "2      411278       807            4  2013-08-29                  970     1   \n",
       "3      664714       802            2  2013-05-28                  473     1   \n",
       "4      540835       726            4  2013-10-10                 1068     1   \n",
       "\n",
       "   promotion state_holiday  school_holiday  sales  \n",
       "0          0             0               0   4422  \n",
       "1          0             0               0   8297  \n",
       "2          1             0               0   9729  \n",
       "3          1             0               0   6513  \n",
       "4          1             0               0  10882  "
      ]
     },
     "execution_count": 30,
     "metadata": {},
     "output_type": "execute_result"
    }
   ],
   "source": [
    "df_file = pd.read_csv(\"training.csv\")\n",
    "\n",
    "print(\"=== Training Data Preview ===\")\n",
    "print(df_file.head(), \"\\n\")\n",
    "print(\"=== Training Data Info ===\")\n",
    "print(df_file.info(), \"\\n\")\n",
    "print(\"=== Summary Statistics ===\")\n",
    "print(df_file.describe(), \"\\n\")\n",
    "\n",
    "df_file.dtypes"
   ]
  },
  {
   "cell_type": "markdown",
   "id": "6b8e7126",
   "metadata": {},
   "source": [
    "# Checking if the data has any broken value"
   ]
  },
  {
   "cell_type": "code",
   "execution_count": 3,
   "id": "eea424ab",
   "metadata": {},
   "outputs": [
    {
     "data": {
      "application/vnd.microsoft.datawrangler.viewer.v0+json": {
       "columns": [
        {
         "name": "index",
         "rawType": "object",
         "type": "string"
        },
        {
         "name": "0",
         "rawType": "int64",
         "type": "integer"
        }
       ],
       "ref": "6ab60da1-dd46-4b75-ad14-1bf9c6ee827c",
       "rows": [
        [
         "Unnamed: 0",
         "0"
        ],
        [
         "store_ID",
         "0"
        ],
        [
         "day_of_week",
         "0"
        ],
        [
         "date",
         "0"
        ],
        [
         "nb_customers_on_day",
         "0"
        ],
        [
         "open",
         "0"
        ],
        [
         "promotion",
         "0"
        ],
        [
         "state_holiday",
         "0"
        ],
        [
         "school_holiday",
         "0"
        ],
        [
         "sales",
         "0"
        ]
       ],
       "shape": {
        "columns": 1,
        "rows": 10
       }
      },
      "text/plain": [
       "Unnamed: 0             0\n",
       "store_ID               0\n",
       "day_of_week            0\n",
       "date                   0\n",
       "nb_customers_on_day    0\n",
       "open                   0\n",
       "promotion              0\n",
       "state_holiday          0\n",
       "school_holiday         0\n",
       "sales                  0\n",
       "dtype: int64"
      ]
     },
     "execution_count": 3,
     "metadata": {},
     "output_type": "execute_result"
    }
   ],
   "source": [
    "df_file.isna().sum()"
   ]
  },
  {
   "cell_type": "code",
   "execution_count": 4,
   "id": "05a9d1a7",
   "metadata": {},
   "outputs": [
    {
     "data": {
      "application/vnd.microsoft.datawrangler.viewer.v0+json": {
       "columns": [
        {
         "name": "index",
         "rawType": "object",
         "type": "string"
        },
        {
         "name": "0",
         "rawType": "int64",
         "type": "integer"
        }
       ],
       "ref": "344db815-6482-42ed-9719-4bd9cc6bfbf3",
       "rows": [
        [
         "Unnamed: 0",
         "0"
        ],
        [
         "store_ID",
         "0"
        ],
        [
         "day_of_week",
         "0"
        ],
        [
         "date",
         "0"
        ],
        [
         "nb_customers_on_day",
         "0"
        ],
        [
         "open",
         "0"
        ],
        [
         "promotion",
         "0"
        ],
        [
         "state_holiday",
         "0"
        ],
        [
         "school_holiday",
         "0"
        ],
        [
         "sales",
         "0"
        ]
       ],
       "shape": {
        "columns": 1,
        "rows": 10
       }
      },
      "text/plain": [
       "Unnamed: 0             0\n",
       "store_ID               0\n",
       "day_of_week            0\n",
       "date                   0\n",
       "nb_customers_on_day    0\n",
       "open                   0\n",
       "promotion              0\n",
       "state_holiday          0\n",
       "school_holiday         0\n",
       "sales                  0\n",
       "dtype: int64"
      ]
     },
     "execution_count": 4,
     "metadata": {},
     "output_type": "execute_result"
    }
   ],
   "source": [
    "df_file.isnull().sum()"
   ]
  },
  {
   "cell_type": "markdown",
   "id": "4c5a9b64",
   "metadata": {},
   "source": [
    "## Cleaning training Data"
   ]
  },
  {
   "cell_type": "code",
   "execution_count": 5,
   "id": "503a9e9b",
   "metadata": {},
   "outputs": [
    {
     "name": "stdout",
     "output_type": "stream",
     "text": [
      "            store_ID    day_of_week                           date  \\\n",
      "count  640840.000000  640840.000000                         640840   \n",
      "mean      558.211348       4.000189  2014-04-11 02:05:13.957931008   \n",
      "min         1.000000       1.000000            2013-01-01 00:00:00   \n",
      "25%       280.000000       2.000000            2013-08-17 00:00:00   \n",
      "50%       558.000000       4.000000            2014-04-02 00:00:00   \n",
      "75%       837.000000       6.000000            2014-12-12 00:00:00   \n",
      "max      1115.000000       7.000000            2015-07-31 00:00:00   \n",
      "std       321.878521       1.996478                            NaN   \n",
      "\n",
      "       nb_customers_on_day           open      promotion  school_holiday  \\\n",
      "count        640840.000000  640840.000000  640840.000000   640840.000000   \n",
      "mean            633.398577       0.830185       0.381718        0.178472   \n",
      "min               0.000000       0.000000       0.000000        0.000000   \n",
      "25%             405.000000       1.000000       0.000000        0.000000   \n",
      "50%             609.000000       1.000000       0.000000        0.000000   \n",
      "75%             838.000000       1.000000       1.000000        0.000000   \n",
      "max            5458.000000       1.000000       1.000000        1.000000   \n",
      "std             464.094416       0.375470       0.485808        0.382910   \n",
      "\n",
      "               sales  \n",
      "count  640840.000000  \n",
      "mean     5777.469011  \n",
      "min         0.000000  \n",
      "25%      3731.000000  \n",
      "50%      5746.000000  \n",
      "75%      7860.000000  \n",
      "max     41551.000000  \n",
      "std      3851.338083  \n"
     ]
    }
   ],
   "source": [
    "#Clean and normalize data: \n",
    "\n",
    "# 1) Drop obvious junk columns (like \"Unnamed: 0\")\n",
    "df_file = df_file.loc[:, ~df_file.columns.str.contains(r'^Unnamed')]\n",
    "\n",
    "# 2) Parse dates\n",
    "df_file['date'] = pd.to_datetime(df_file['date'], errors='coerce')\n",
    "\n",
    "# Normalize text, handle weird values, then encode\n",
    "sh = (df_file['state_holiday']\n",
    "        .astype(str).str.strip().str.lower()\n",
    "        .replace({'false':'0', 'none':'0', 'nan':'0'}))\n",
    "\n",
    "# Option A: keep as a tidy categorical with known levels\n",
    "df_file['state_holiday'] = pd.Categorical(sh, categories=['0','a','b','c'])\n",
    "\n",
    "print(df_file.describe())\n",
    "\n"
   ]
  },
  {
   "cell_type": "code",
   "execution_count": null,
   "id": "f868f944",
   "metadata": {},
   "outputs": [
    {
     "data": {
      "application/vnd.microsoft.datawrangler.viewer.v0+json": {
       "columns": [
        {
         "name": "index",
         "rawType": "object",
         "type": "string"
        },
        {
         "name": "0",
         "rawType": "int64",
         "type": "integer"
        }
       ],
       "ref": "cd6fd0a0-02e6-4edf-930c-9d078d2e6d6e",
       "rows": [
        [
         "store_ID",
         "0"
        ],
        [
         "day_of_week",
         "0"
        ],
        [
         "date",
         "0"
        ],
        [
         "nb_customers_on_day",
         "0"
        ],
        [
         "open",
         "0"
        ],
        [
         "promotion",
         "0"
        ],
        [
         "state_holiday",
         "0"
        ],
        [
         "school_holiday",
         "0"
        ],
        [
         "sales",
         "0"
        ]
       ],
       "shape": {
        "columns": 1,
        "rows": 9
       }
      },
      "text/plain": [
       "store_ID               0\n",
       "day_of_week            0\n",
       "date                   0\n",
       "nb_customers_on_day    0\n",
       "open                   0\n",
       "promotion              0\n",
       "state_holiday          0\n",
       "school_holiday         0\n",
       "sales                  0\n",
       "dtype: int64"
      ]
     },
     "execution_count": 6,
     "metadata": {},
     "output_type": "execute_result"
    }
   ],
   "source": [
    "\n",
    "df_file.dropna(subset=[\"date\"], inplace=True)\n",
    "df_file.isna().sum()\n",
    "\n"
   ]
  },
  {
   "cell_type": "markdown",
   "id": "52e8ae9b",
   "metadata": {},
   "source": [
    "## 2. Separate features and target"
   ]
  },
  {
   "cell_type": "code",
   "execution_count": 7,
   "id": "ec0c6982",
   "metadata": {},
   "outputs": [],
   "source": [
    "# Assuming the last column is the target variable 'sales'\n",
    "\n",
    "X = df_file.drop(\"sales\", axis=1)  # All columns except last\n",
    "y = df_file[\"sales\"]     # Last column as target\n",
    "\n"
   ]
  },
  {
   "cell_type": "markdown",
   "id": "908e2f9e",
   "metadata": {},
   "source": [
    "## Scaling"
   ]
  },
  {
   "cell_type": "code",
   "execution_count": 8,
   "id": "87b783f7",
   "metadata": {},
   "outputs": [],
   "source": [
    "\n",
    "scaler = StandardScaler()\n",
    "\n",
    "# Select only numeric columns (excluding 'date')\n",
    "X_numeric = X.drop(columns=['date', 'state_holiday'])\n",
    "\n",
    "# Fit and transform the numeric data\n",
    "X_scaled = scaler.fit_transform(X_numeric)\n",
    "\n",
    "# create a DataFrame with the same column names\n",
    "X_scaled_df = pd.DataFrame(X_scaled, columns=X_numeric.columns)\n",
    "\n",
    "# If you still want to keep the date column, you can reattach it:\n",
    "X_scaled_df = pd.concat([X[['date', 'state_holiday']].reset_index(drop=True), X_scaled_df], axis=1)\n"
   ]
  },
  {
   "cell_type": "markdown",
   "id": "bdadfc3f",
   "metadata": {},
   "source": [
    "# Train/Test Split"
   ]
  },
  {
   "cell_type": "code",
   "execution_count": 9,
   "id": "0fd34e4f",
   "metadata": {},
   "outputs": [],
   "source": [
    "from sklearn.model_selection import train_test_split\n",
    "\n",
    "X_train, X_test, y_train, y_test = train_test_split(X_scaled, y, test_size=0.2, random_state=42)"
   ]
  },
  {
   "cell_type": "markdown",
   "id": "b244840c",
   "metadata": {},
   "source": [
    "## TimeSeries Model and Evaluation"
   ]
  },
  {
   "cell_type": "code",
   "execution_count": null,
   "id": "4db3ecd0",
   "metadata": {},
   "outputs": [
    {
     "name": "stdout",
     "output_type": "stream",
     "text": [
      "Fold 1: MSE=1049594.1230, R2=0.9296\n",
      "Fold 2: MSE=764213.8489, R2=0.9489\n",
      "Fold 3: MSE=603909.0528, R2=0.9592\n",
      "Fold 4: MSE=531021.9216, R2=0.9640\n",
      "Fold 5: MSE=473327.6393, R2=0.9681\n",
      "Average MSE: 684413.3171030842\n",
      "Average R2: 0.9539495584078397\n"
     ]
    }
   ],
   "source": [
    "from sklearn.model_selection import TimeSeriesSplit\n",
    "from sklearn.pipeline import Pipeline\n",
    "from sklearn.preprocessing import StandardScaler\n",
    "from sklearn.ensemble import RandomForestRegressor\n",
    "from sklearn.metrics import mean_squared_error, r2_score\n",
    "import numpy as np\n",
    "\n",
    "X_ts = X.copy()\n",
    "for c in ['date', 'state_holiday']:\n",
    "    if c in X_ts.columns:\n",
    "        X_ts = X_ts.drop(columns=[c])\n",
    "X_ts = X_ts.reset_index(drop=True)\n",
    "y_ts = y.reset_index(drop=True)\n",
    "\n",
    "tscv = TimeSeriesSplit(n_splits=5)\n",
    "pipe = Pipeline([\n",
    "    ('scaler', StandardScaler()),\n",
    "    ('model', RandomForestRegressor(n_estimators=200, random_state=42, n_jobs=-1))\n",
    "])\n",
    "\n",
    "mse_scores = []\n",
    "r2_scores = []\n",
    "\n",
    "for fold, (train_idx, test_idx) in enumerate(tscv.split(X_ts), start=1):\n",
    "    X_train, X_test = X_ts.iloc[train_idx], X_ts.iloc[test_idx]\n",
    "    y_train, y_test = y_ts.iloc[train_idx], y_ts.iloc[test_idx]\n",
    "    pipe.fit(X_train, y_train)\n",
    "    y_pred = pipe.predict(X_test)\n",
    "    mse = mean_squared_error(y_test, y_pred)\n",
    "    r2 = r2_score(y_test, y_pred)\n",
    "    mse_scores.append(mse)\n",
    "    r2_scores.append(r2)\n",
    "    print(f\"Fold {fold}: MSE={mse:.4f}, R2={r2:.4f}\")\n",
    "\n",
    "print(\"Average MSE:\", np.mean(mse_scores))\n",
    "print(\"Average R2:\", np.mean(r2_scores))\n",
    "\n",
    "pipe.fit(X_ts, y_ts)\n",
    "final_model = pipe"
   ]
  },
  {
   "cell_type": "markdown",
   "id": "50af8b96",
   "metadata": {},
   "source": [
    "## LinearRegression Model"
   ]
  },
  {
   "cell_type": "code",
   "execution_count": null,
   "id": "3d3fd560",
   "metadata": {},
   "outputs": [],
   "source": [
    "model = LinearRegression()\n",
    "model.fit(X_train, y_train)\n",
    "y_pred = model.predict(X_test)"
   ]
  },
  {
   "cell_type": "code",
   "execution_count": 11,
   "id": "4973999d",
   "metadata": {},
   "outputs": [
    {
     "name": "stdout",
     "output_type": "stream",
     "text": [
      "Intercept: 5778.2247951062445\n",
      "\n",
      "Coefficients: [ -46.57158123 -111.95467981 2823.08862825  627.34964717  620.87969028\n",
      "    6.77278655]\n"
     ]
    }
   ],
   "source": [
    "coefficients = model.coef_\n",
    "intercept = model.intercept_\n",
    "\n",
    "print(\"Intercept:\", intercept)\n",
    "print(\"\\nCoefficients:\", coefficients)"
   ]
  },
  {
   "cell_type": "markdown",
   "id": "0475a58b",
   "metadata": {},
   "source": [
    "# Evaluation of the LinearRegression"
   ]
  },
  {
   "cell_type": "code",
   "execution_count": 12,
   "id": "3cb23e76",
   "metadata": {},
   "outputs": [
    {
     "name": "stdout",
     "output_type": "stream",
     "text": [
      "Train/Test Split Evaluation:\n",
      "MSE: 2216130.382466229\n",
      "MAE: 992.2926713242842\n",
      "R2: 0.8500756894871744\n"
     ]
    }
   ],
   "source": [
    "from sklearn.metrics import mean_absolute_error\n",
    "# Evaluate\n",
    "print(\"Train/Test Split Evaluation:\")\n",
    "print(\"MSE:\", mean_squared_error(y_test, y_pred))\n",
    "\n",
    "print(\"MAE:\", mean_absolute_error(y_test, y_pred))\n",
    "\n",
    "print(\"R2:\", r2_score(y_test, y_pred))"
   ]
  },
  {
   "cell_type": "markdown",
   "id": "f62ed753",
   "metadata": {},
   "source": [
    "# K-Fold Model and Evaluation"
   ]
  },
  {
   "cell_type": "code",
   "execution_count": 13,
   "id": "fbb28cfe",
   "metadata": {},
   "outputs": [
    {
     "name": "stdout",
     "output_type": "stream",
     "text": [
      "\n",
      "K-Fold Cross Validation (5 folds):\n",
      "Average MSE: 2191760.337402156\n",
      "Average R2: 0.8522335896131737\n"
     ]
    }
   ],
   "source": [
    "from sklearn.model_selection import train_test_split, cross_val_score, KFold\n",
    "\n",
    "kf = KFold(n_splits=5, shuffle=True, random_state=42)\n",
    "mse_scores = -cross_val_score(model, X_scaled, y, cv=kf, scoring='neg_mean_squared_error')\n",
    "r2_scores = cross_val_score(model, X_scaled, y, cv=kf, scoring='r2')\n",
    "\n",
    "print(\"\\nK-Fold Cross Validation (5 folds):\")\n",
    "print(\"Average MSE:\", mse_scores.mean())\n",
    "print(\"Average R2:\", r2_scores.mean())"
   ]
  },
  {
   "cell_type": "markdown",
   "id": "fbf5e4b1",
   "metadata": {},
   "source": [
    "# Validating with the REAL_DATA"
   ]
  },
  {
   "cell_type": "markdown",
   "id": "823456dd",
   "metadata": {},
   "source": [
    "## Cleaning Data"
   ]
  },
  {
   "cell_type": "code",
   "execution_count": null,
   "id": "644164cd",
   "metadata": {},
   "outputs": [
    {
     "name": "stdout",
     "output_type": "stream",
     "text": [
      "index                  0\n",
      "store_ID               0\n",
      "day_of_week            0\n",
      "date                   0\n",
      "nb_customers_on_day    0\n",
      "open                   0\n",
      "promotion              0\n",
      "state_holiday          0\n",
      "school_holiday         0\n",
      "dtype: int64\n",
      "index                  0\n",
      "store_ID               0\n",
      "day_of_week            0\n",
      "date                   0\n",
      "nb_customers_on_day    0\n",
      "open                   0\n",
      "promotion              0\n",
      "state_holiday          0\n",
      "school_holiday         0\n",
      "dtype: int64\n",
      "               index      store_ID   day_of_week  \\\n",
      "count   28387.000000  28387.000000  28387.000000   \n",
      "mean   355927.439145    559.510234      3.992990   \n",
      "min        56.000000      1.000000      1.000000   \n",
      "25%    177538.000000    282.000000      2.000000   \n",
      "50%    355264.000000    558.000000      4.000000   \n",
      "75%    535662.500000    839.500000      6.000000   \n",
      "max    711965.000000   1115.000000      7.000000   \n",
      "std    206016.278028    321.677601      1.999679   \n",
      "\n",
      "                                date  nb_customers_on_day          open  \\\n",
      "count                          28387         28387.000000  28387.000000   \n",
      "mean   2014-04-22 17:55:31.398175232           630.668933      0.817346   \n",
      "min              2013-01-01 00:00:00             0.000000      0.000000   \n",
      "25%              2013-08-08 00:00:00           394.000000      1.000000   \n",
      "50%              2014-04-05 00:00:00           613.000000      1.000000   \n",
      "75%              2014-12-06 00:00:00           844.000000      1.000000   \n",
      "max              2015-12-07 00:00:00          5494.000000      1.000000   \n",
      "std                              NaN           471.311486      0.386389   \n",
      "\n",
      "          promotion  school_holiday  \n",
      "count  28387.000000    28387.000000  \n",
      "mean       0.409448        0.175996  \n",
      "min        0.000000        0.000000  \n",
      "25%        0.000000        0.000000  \n",
      "50%        0.000000        0.000000  \n",
      "75%        1.000000        0.000000  \n",
      "max        1.000000        1.000000  \n",
      "std        0.491741        0.380824  \n"
     ]
    }
   ],
   "source": [
    "df_real_file = pd.read_csv(\"REAL_DATA.csv\")\n",
    "\n",
    "df_real_file.dropna(subset=[\"date\"], inplace=True)\n",
    "df_real_file.isna().sum()\n",
    "\n",
    "df_real_file = df_real_file.loc[:, ~df_real_file.columns.str.contains(r'^Unnamed')]\n",
    "\n",
    "print(df_real_file.isna().sum())\n",
    "\n",
    "df_real_file['date'] = pd.to_datetime(df_real_file['date'], errors='coerce')\n",
    "df_real_file.dropna(subset=[\"date\"], inplace=True)\n",
    "print(df_real_file.isna().sum())\n",
    "\n",
    "sh = (df_real_file['state_holiday']\n",
    "        .astype(str).str.strip().str.lower()\n",
    "        .replace({'false':'0', 'none':'0', 'nan':'0'}))\n",
    "\n",
    "df_real_file['state_holiday'] = pd.Categorical(sh, categories=['0','a','b','c'])\n",
    "\n",
    "print(df_real_file.describe())\n",
    "\n"
   ]
  },
  {
   "cell_type": "markdown",
   "id": "ff527706",
   "metadata": {},
   "source": [
    "## Creating Features"
   ]
  },
  {
   "cell_type": "code",
   "execution_count": 15,
   "id": "287de7df",
   "metadata": {},
   "outputs": [],
   "source": [
    "X_real = df_real_file"
   ]
  },
  {
   "cell_type": "code",
   "execution_count": null,
   "id": "64f6b6d4",
   "metadata": {},
   "outputs": [
    {
     "name": "stdout",
     "output_type": "stream",
     "text": [
      "pipe steps: ['scaler', 'model']\n",
      "expected features (len): 6\n",
      "X_real.shape: (28387, 6)\n",
      "model expects: 6\n",
      "pipe steps: ['scaler', 'model']\n",
      "expected features (len): 6\n",
      "X_real.shape: (28387, 6)\n",
      "model expects: 6\n"
     ]
    }
   ],
   "source": [
    "train_cols = X_ts.columns.tolist() \n",
    "\n",
    "_real_temp = df_real_file.copy()\n",
    "\n",
    "for c in ['date', 'state_holiday']:\n",
    "    if c in _real_temp.columns and c not in train_cols:\n",
    "        _real_temp = _real_temp.drop(columns=[c])\n",
    "\n",
    "X_real = _real_temp.reindex(columns=train_cols).fillna(0)[train_cols].copy()\n",
    "\n",
    "print(\"pipe steps:\", list(pipe.named_steps.keys()))\n",
    "print(\"expected features (len):\", len(train_cols))\n",
    "print(\"X_real.shape:\", X_real.shape)\n",
    "try:\n",
    "    print(\"model expects:\", pipe.named_steps['model'].n_features_in_)\n",
    "except Exception:\n",
    "    pass\n",
    "\n",
    "df_real_file['sales_pred'] = pipe.predict(X_real)\n",
    "\n",
    "train_cols = X_ts.columns.tolist()\n",
    "\n",
    "_real_temp = df_real_file.copy()\n",
    "\n",
    "for c in ['date', 'state_holiday']:\n",
    "    if c in _real_temp.columns and c not in train_cols:\n",
    "        _real_temp = _real_temp.drop(columns=[c])\n",
    "\n",
    "X_real = _real_temp.reindex(columns=train_cols).fillna(0)[train_cols].copy()\n",
    "\n",
    "print(\"pipe steps:\", list(pipe.named_steps.keys()))\n",
    "print(\"expected features (len):\", len(train_cols))\n",
    "print(\"X_real.shape:\", X_real.shape)\n",
    "try:\n",
    "    print(\"model expects:\", pipe.named_steps['model'].n_features_in_)\n",
    "except Exception:\n",
    "    pass\n",
    "\n",
    "df_real_file['sales_pred'] = pipe.predict(X_real)."
   ]
  },
  {
   "cell_type": "markdown",
   "id": "4d49eced",
   "metadata": {},
   "source": [
    "## Checking created data"
   ]
  },
  {
   "cell_type": "code",
   "execution_count": 32,
   "id": "add7d6db",
   "metadata": {},
   "outputs": [
    {
     "data": {
      "application/vnd.microsoft.datawrangler.viewer.v0+json": {
       "columns": [
        {
         "name": "index",
         "rawType": "int64",
         "type": "integer"
        },
        {
         "name": "index",
         "rawType": "int64",
         "type": "integer"
        },
        {
         "name": "store_ID",
         "rawType": "int64",
         "type": "integer"
        },
        {
         "name": "day_of_week",
         "rawType": "int64",
         "type": "integer"
        },
        {
         "name": "nb_customers_on_day",
         "rawType": "int64",
         "type": "integer"
        },
        {
         "name": "open",
         "rawType": "int64",
         "type": "integer"
        },
        {
         "name": "promotion",
         "rawType": "int64",
         "type": "integer"
        },
        {
         "name": "school_holiday",
         "rawType": "int64",
         "type": "integer"
        },
        {
         "name": "sales",
         "rawType": "float64",
         "type": "float"
        },
        {
         "name": "sales_pred",
         "rawType": "float64",
         "type": "float"
        }
       ],
       "ref": "b0c103ac-43f3-472a-b28a-42bab84cc863",
       "rows": [
        [
         "0",
         "272371",
         "415",
         "7",
         "0",
         "0",
         "0",
         "0",
         "5.911459045167248",
         "0.0"
        ],
        [
         "8",
         "162710",
         "756",
         "4",
         "0",
         "0",
         "1",
         "0",
         "1387.1419032118984",
         "0.0"
        ],
        [
         "13",
         "674144",
         "933",
         "1",
         "965",
         "1",
         "0",
         "0",
         "7670.8023120252765",
         "7276.64"
        ],
        [
         "14",
         "81595",
         "218",
         "2",
         "804",
         "1",
         "0",
         "1",
         "6771.733384207809",
         "6270.425"
        ],
        [
         "15",
         "416724",
         "554",
         "3",
         "499",
         "1",
         "1",
         "1",
         "6102.799817639138",
         "4345.015"
        ]
       ],
       "shape": {
        "columns": 9,
        "rows": 5
       }
      },
      "text/html": [
       "<div>\n",
       "<style scoped>\n",
       "    .dataframe tbody tr th:only-of-type {\n",
       "        vertical-align: middle;\n",
       "    }\n",
       "\n",
       "    .dataframe tbody tr th {\n",
       "        vertical-align: top;\n",
       "    }\n",
       "\n",
       "    .dataframe thead th {\n",
       "        text-align: right;\n",
       "    }\n",
       "</style>\n",
       "<table border=\"1\" class=\"dataframe\">\n",
       "  <thead>\n",
       "    <tr style=\"text-align: right;\">\n",
       "      <th></th>\n",
       "      <th>index</th>\n",
       "      <th>store_ID</th>\n",
       "      <th>day_of_week</th>\n",
       "      <th>nb_customers_on_day</th>\n",
       "      <th>open</th>\n",
       "      <th>promotion</th>\n",
       "      <th>school_holiday</th>\n",
       "      <th>sales</th>\n",
       "      <th>sales_pred</th>\n",
       "    </tr>\n",
       "  </thead>\n",
       "  <tbody>\n",
       "    <tr>\n",
       "      <th>0</th>\n",
       "      <td>272371</td>\n",
       "      <td>415</td>\n",
       "      <td>7</td>\n",
       "      <td>0</td>\n",
       "      <td>0</td>\n",
       "      <td>0</td>\n",
       "      <td>0</td>\n",
       "      <td>5.911459</td>\n",
       "      <td>0.000</td>\n",
       "    </tr>\n",
       "    <tr>\n",
       "      <th>8</th>\n",
       "      <td>162710</td>\n",
       "      <td>756</td>\n",
       "      <td>4</td>\n",
       "      <td>0</td>\n",
       "      <td>0</td>\n",
       "      <td>1</td>\n",
       "      <td>0</td>\n",
       "      <td>1387.141903</td>\n",
       "      <td>0.000</td>\n",
       "    </tr>\n",
       "    <tr>\n",
       "      <th>13</th>\n",
       "      <td>674144</td>\n",
       "      <td>933</td>\n",
       "      <td>1</td>\n",
       "      <td>965</td>\n",
       "      <td>1</td>\n",
       "      <td>0</td>\n",
       "      <td>0</td>\n",
       "      <td>7670.802312</td>\n",
       "      <td>7276.640</td>\n",
       "    </tr>\n",
       "    <tr>\n",
       "      <th>14</th>\n",
       "      <td>81595</td>\n",
       "      <td>218</td>\n",
       "      <td>2</td>\n",
       "      <td>804</td>\n",
       "      <td>1</td>\n",
       "      <td>0</td>\n",
       "      <td>1</td>\n",
       "      <td>6771.733384</td>\n",
       "      <td>6270.425</td>\n",
       "    </tr>\n",
       "    <tr>\n",
       "      <th>15</th>\n",
       "      <td>416724</td>\n",
       "      <td>554</td>\n",
       "      <td>3</td>\n",
       "      <td>499</td>\n",
       "      <td>1</td>\n",
       "      <td>1</td>\n",
       "      <td>1</td>\n",
       "      <td>6102.799818</td>\n",
       "      <td>4345.015</td>\n",
       "    </tr>\n",
       "  </tbody>\n",
       "</table>\n",
       "</div>"
      ],
      "text/plain": [
       "     index  store_ID  day_of_week  nb_customers_on_day  open  promotion  \\\n",
       "0   272371       415            7                    0     0          0   \n",
       "8   162710       756            4                    0     0          1   \n",
       "13  674144       933            1                  965     1          0   \n",
       "14   81595       218            2                  804     1          0   \n",
       "15  416724       554            3                  499     1          1   \n",
       "\n",
       "    school_holiday        sales  sales_pred  \n",
       "0                0     5.911459       0.000  \n",
       "8                0  1387.141903       0.000  \n",
       "13               0  7670.802312    7276.640  \n",
       "14               1  6771.733384    6270.425  \n",
       "15               1  6102.799818    4345.015  "
      ]
     },
     "execution_count": 32,
     "metadata": {},
     "output_type": "execute_result"
    }
   ],
   "source": [
    "df_real_file.head()"
   ]
  }
 ],
 "metadata": {
  "kernelspec": {
   "display_name": "Python 3",
   "language": "python",
   "name": "python3"
  },
  "language_info": {
   "codemirror_mode": {
    "name": "ipython",
    "version": 3
   },
   "file_extension": ".py",
   "mimetype": "text/x-python",
   "name": "python",
   "nbconvert_exporter": "python",
   "pygments_lexer": "ipython3",
   "version": "3.10.6"
  }
 },
 "nbformat": 4,
 "nbformat_minor": 5
}
