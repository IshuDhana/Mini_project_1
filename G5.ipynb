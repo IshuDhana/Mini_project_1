{
 "cells": [
  {
   "cell_type": "markdown",
   "id": "d6277cfb",
   "metadata": {},
   "source": [
    "#IMPORTING THE HEADERS"
   ]
  },
  {
   "cell_type": "code",
   "execution_count": 1,
   "id": "752a7db7",
   "metadata": {},
   "outputs": [],
   "source": [
    "import pandas as pd\n",
    "import numpy as np\n",
    "import matplotlib.pyplot as plt\n",
    "from sklearn.preprocessing import StandardScaler, MinMaxScaler, OneHotEncoder\n",
    "from sklearn.compose import ColumnTransformer\n",
    "from sklearn.pipeline import Pipeline\n",
    "from sklearn.linear_model import LinearRegression\n",
    "from sklearn.tree import DecisionTreeRegressor\n",
    "from sklearn.ensemble import RandomForestRegressor\n",
    "from sklearn.metrics import mean_squared_error, r2_score"
   ]
  },
  {
   "cell_type": "markdown",
   "id": "8870ece0",
   "metadata": {},
   "source": [
    "#LOAD THE TRAINING.CSV FILE"
   ]
  },
  {
   "cell_type": "code",
   "execution_count": 2,
   "id": "68af6569",
   "metadata": {},
   "outputs": [
    {
     "name": "stdout",
     "output_type": "stream",
     "text": [
      "=== Training Data Preview ===\n",
      "   Unnamed: 0  store_ID  day_of_week        date  nb_customers_on_day  open  \\\n",
      "0      425390       366            4  2013-04-18                  517     1   \n",
      "1      291687       394            6  2015-04-11                  694     1   \n",
      "2      411278       807            4  2013-08-29                  970     1   \n",
      "3      664714       802            2  2013-05-28                  473     1   \n",
      "4      540835       726            4  2013-10-10                 1068     1   \n",
      "\n",
      "   promotion state_holiday  school_holiday  sales  \n",
      "0          0             0               0   4422  \n",
      "1          0             0               0   8297  \n",
      "2          1             0               0   9729  \n",
      "3          1             0               0   6513  \n",
      "4          1             0               0  10882   \n",
      "\n",
      "=== Training Data Info ===\n",
      "<class 'pandas.core.frame.DataFrame'>\n",
      "RangeIndex: 640840 entries, 0 to 640839\n",
      "Data columns (total 10 columns):\n",
      " #   Column               Non-Null Count   Dtype \n",
      "---  ------               --------------   ----- \n",
      " 0   Unnamed: 0           640840 non-null  int64 \n",
      " 1   store_ID             640840 non-null  int64 \n",
      " 2   day_of_week          640840 non-null  int64 \n",
      " 3   date                 640840 non-null  object\n",
      " 4   nb_customers_on_day  640840 non-null  int64 \n",
      " 5   open                 640840 non-null  int64 \n",
      " 6   promotion            640840 non-null  int64 \n",
      " 7   state_holiday        640840 non-null  object\n",
      " 8   school_holiday       640840 non-null  int64 \n",
      " 9   sales                640840 non-null  int64 \n",
      "dtypes: int64(8), object(2)\n",
      "memory usage: 48.9+ MB\n",
      "None \n",
      "\n",
      "=== Summary Statistics ===\n",
      "          Unnamed: 0       store_ID    day_of_week  nb_customers_on_day  \\\n",
      "count  640840.000000  640840.000000  640840.000000        640840.000000   \n",
      "mean   355990.675084     558.211348       4.000189           633.398577   \n",
      "std    205536.290268     321.878521       1.996478           464.094416   \n",
      "min         0.000000       1.000000       1.000000             0.000000   \n",
      "25%    178075.750000     280.000000       2.000000           405.000000   \n",
      "50%    355948.500000     558.000000       4.000000           609.000000   \n",
      "75%    533959.250000     837.000000       6.000000           838.000000   \n",
      "max    712044.000000    1115.000000       7.000000          5458.000000   \n",
      "\n",
      "                open      promotion  school_holiday          sales  \n",
      "count  640840.000000  640840.000000   640840.000000  640840.000000  \n",
      "mean        0.830185       0.381718        0.178472    5777.469011  \n",
      "std         0.375470       0.485808        0.382910    3851.338083  \n",
      "min         0.000000       0.000000        0.000000       0.000000  \n",
      "25%         1.000000       0.000000        0.000000    3731.000000  \n",
      "50%         1.000000       0.000000        0.000000    5746.000000  \n",
      "75%         1.000000       1.000000        0.000000    7860.000000  \n",
      "max         1.000000       1.000000        1.000000   41551.000000   \n",
      "\n"
     ]
    },
    {
     "data": {
      "application/vnd.microsoft.datawrangler.viewer.v0+json": {
       "columns": [
        {
         "name": "index",
         "rawType": "object",
         "type": "string"
        },
        {
         "name": "0",
         "rawType": "object",
         "type": "unknown"
        }
       ],
       "ref": "5b413bcb-4cac-464b-a733-b15a463ca676",
       "rows": [
        [
         "Unnamed: 0",
         "int64"
        ],
        [
         "store_ID",
         "int64"
        ],
        [
         "day_of_week",
         "int64"
        ],
        [
         "date",
         "object"
        ],
        [
         "nb_customers_on_day",
         "int64"
        ],
        [
         "open",
         "int64"
        ],
        [
         "promotion",
         "int64"
        ],
        [
         "state_holiday",
         "object"
        ],
        [
         "school_holiday",
         "int64"
        ],
        [
         "sales",
         "int64"
        ]
       ],
       "shape": {
        "columns": 1,
        "rows": 10
       }
      },
      "text/plain": [
       "Unnamed: 0              int64\n",
       "store_ID                int64\n",
       "day_of_week             int64\n",
       "date                   object\n",
       "nb_customers_on_day     int64\n",
       "open                    int64\n",
       "promotion               int64\n",
       "state_holiday          object\n",
       "school_holiday          int64\n",
       "sales                   int64\n",
       "dtype: object"
      ]
     },
     "execution_count": 2,
     "metadata": {},
     "output_type": "execute_result"
    }
   ],
   "source": [
    "df_file = pd.read_csv(\"training.csv\")\n",
    "\n",
    "print(\"=== Training Data Preview ===\")\n",
    "print(df_file.head(), \"\\n\")\n",
    "print(\"=== Training Data Info ===\")\n",
    "print(df_file.info(), \"\\n\")\n",
    "print(\"=== Summary Statistics ===\")\n",
    "print(df_file.describe(), \"\\n\")\n",
    "\n",
    "df_file.dtypes\n"
   ]
  },
  {
   "cell_type": "markdown",
   "id": "6b8e7126",
   "metadata": {},
   "source": [
    "#FINDING THE NULLS AND MISSING VALUES"
   ]
  },
  {
   "cell_type": "code",
   "execution_count": 3,
   "id": "eea424ab",
   "metadata": {},
   "outputs": [
    {
     "data": {
      "application/vnd.microsoft.datawrangler.viewer.v0+json": {
       "columns": [
        {
         "name": "index",
         "rawType": "object",
         "type": "string"
        },
        {
         "name": "0",
         "rawType": "int64",
         "type": "integer"
        }
       ],
       "ref": "6ab60da1-dd46-4b75-ad14-1bf9c6ee827c",
       "rows": [
        [
         "Unnamed: 0",
         "0"
        ],
        [
         "store_ID",
         "0"
        ],
        [
         "day_of_week",
         "0"
        ],
        [
         "date",
         "0"
        ],
        [
         "nb_customers_on_day",
         "0"
        ],
        [
         "open",
         "0"
        ],
        [
         "promotion",
         "0"
        ],
        [
         "state_holiday",
         "0"
        ],
        [
         "school_holiday",
         "0"
        ],
        [
         "sales",
         "0"
        ]
       ],
       "shape": {
        "columns": 1,
        "rows": 10
       }
      },
      "text/plain": [
       "Unnamed: 0             0\n",
       "store_ID               0\n",
       "day_of_week            0\n",
       "date                   0\n",
       "nb_customers_on_day    0\n",
       "open                   0\n",
       "promotion              0\n",
       "state_holiday          0\n",
       "school_holiday         0\n",
       "sales                  0\n",
       "dtype: int64"
      ]
     },
     "execution_count": 3,
     "metadata": {},
     "output_type": "execute_result"
    }
   ],
   "source": [
    "df_file.isna().sum()"
   ]
  },
  {
   "cell_type": "code",
   "execution_count": 4,
   "id": "05a9d1a7",
   "metadata": {},
   "outputs": [
    {
     "data": {
      "application/vnd.microsoft.datawrangler.viewer.v0+json": {
       "columns": [
        {
         "name": "index",
         "rawType": "object",
         "type": "string"
        },
        {
         "name": "0",
         "rawType": "int64",
         "type": "integer"
        }
       ],
       "ref": "344db815-6482-42ed-9719-4bd9cc6bfbf3",
       "rows": [
        [
         "Unnamed: 0",
         "0"
        ],
        [
         "store_ID",
         "0"
        ],
        [
         "day_of_week",
         "0"
        ],
        [
         "date",
         "0"
        ],
        [
         "nb_customers_on_day",
         "0"
        ],
        [
         "open",
         "0"
        ],
        [
         "promotion",
         "0"
        ],
        [
         "state_holiday",
         "0"
        ],
        [
         "school_holiday",
         "0"
        ],
        [
         "sales",
         "0"
        ]
       ],
       "shape": {
        "columns": 1,
        "rows": 10
       }
      },
      "text/plain": [
       "Unnamed: 0             0\n",
       "store_ID               0\n",
       "day_of_week            0\n",
       "date                   0\n",
       "nb_customers_on_day    0\n",
       "open                   0\n",
       "promotion              0\n",
       "state_holiday          0\n",
       "school_holiday         0\n",
       "sales                  0\n",
       "dtype: int64"
      ]
     },
     "execution_count": 4,
     "metadata": {},
     "output_type": "execute_result"
    }
   ],
   "source": [
    "df_file.isnull().sum()"
   ]
  },
  {
   "cell_type": "code",
   "execution_count": 5,
   "id": "503a9e9b",
   "metadata": {},
   "outputs": [
    {
     "name": "stdout",
     "output_type": "stream",
     "text": [
      "            store_ID    day_of_week                           date  \\\n",
      "count  640840.000000  640840.000000                         640840   \n",
      "mean      558.211348       4.000189  2014-04-11 02:05:13.957931008   \n",
      "min         1.000000       1.000000            2013-01-01 00:00:00   \n",
      "25%       280.000000       2.000000            2013-08-17 00:00:00   \n",
      "50%       558.000000       4.000000            2014-04-02 00:00:00   \n",
      "75%       837.000000       6.000000            2014-12-12 00:00:00   \n",
      "max      1115.000000       7.000000            2015-07-31 00:00:00   \n",
      "std       321.878521       1.996478                            NaN   \n",
      "\n",
      "       nb_customers_on_day           open      promotion  school_holiday  \\\n",
      "count        640840.000000  640840.000000  640840.000000   640840.000000   \n",
      "mean            633.398577       0.830185       0.381718        0.178472   \n",
      "min               0.000000       0.000000       0.000000        0.000000   \n",
      "25%             405.000000       1.000000       0.000000        0.000000   \n",
      "50%             609.000000       1.000000       0.000000        0.000000   \n",
      "75%             838.000000       1.000000       1.000000        0.000000   \n",
      "max            5458.000000       1.000000       1.000000        1.000000   \n",
      "std             464.094416       0.375470       0.485808        0.382910   \n",
      "\n",
      "               sales  \n",
      "count  640840.000000  \n",
      "mean     5777.469011  \n",
      "min         0.000000  \n",
      "25%      3731.000000  \n",
      "50%      5746.000000  \n",
      "75%      7860.000000  \n",
      "max     41551.000000  \n",
      "std      3851.338083  \n"
     ]
    }
   ],
   "source": [
    "#Clean and normalize data: \n",
    "\n",
    "# 1) Drop obvious junk columns (like \"Unnamed: 0\")\n",
    "df_file = df_file.loc[:, ~df_file.columns.str.contains(r'^Unnamed')]\n",
    "\n",
    "# 2) Parse dates\n",
    "df_file['date'] = pd.to_datetime(df_file['date'], errors='coerce')\n",
    "\n",
    "# Normalize text, handle weird values, then encode\n",
    "sh = (df_file['state_holiday']\n",
    "        .astype(str).str.strip().str.lower()\n",
    "        .replace({'false':'0', 'none':'0', 'nan':'0'}))\n",
    "\n",
    "# Option A: keep as a tidy categorical with known levels\n",
    "df_file['state_holiday'] = pd.Categorical(sh, categories=['0','a','b','c'])\n",
    "\n",
    "print(df_file.describe())\n",
    "\n"
   ]
  },
  {
   "cell_type": "code",
   "execution_count": 6,
   "id": "f868f944",
   "metadata": {},
   "outputs": [
    {
     "data": {
      "application/vnd.microsoft.datawrangler.viewer.v0+json": {
       "columns": [
        {
         "name": "index",
         "rawType": "object",
         "type": "string"
        },
        {
         "name": "0",
         "rawType": "int64",
         "type": "integer"
        }
       ],
       "ref": "cd6fd0a0-02e6-4edf-930c-9d078d2e6d6e",
       "rows": [
        [
         "store_ID",
         "0"
        ],
        [
         "day_of_week",
         "0"
        ],
        [
         "date",
         "0"
        ],
        [
         "nb_customers_on_day",
         "0"
        ],
        [
         "open",
         "0"
        ],
        [
         "promotion",
         "0"
        ],
        [
         "state_holiday",
         "0"
        ],
        [
         "school_holiday",
         "0"
        ],
        [
         "sales",
         "0"
        ]
       ],
       "shape": {
        "columns": 1,
        "rows": 9
       }
      },
      "text/plain": [
       "store_ID               0\n",
       "day_of_week            0\n",
       "date                   0\n",
       "nb_customers_on_day    0\n",
       "open                   0\n",
       "promotion              0\n",
       "state_holiday          0\n",
       "school_holiday         0\n",
       "sales                  0\n",
       "dtype: int64"
      ]
     },
     "execution_count": 6,
     "metadata": {},
     "output_type": "execute_result"
    }
   ],
   "source": [
    "\n",
    "# Example: drop irrelevant columns if present\n",
    "\n",
    "df_file.dropna(subset=[\"date\"], inplace=True)\n",
    "df_file.isna().sum()\n",
    "#df_file.drop(columns=[\"store_ID\"], inplace=True, errors='ignore')\n",
    "#df_file.drop(columns=[\"Unnamed: 0\"], inplace=True, errors='ignore')\n",
    "\n"
   ]
  },
  {
   "cell_type": "markdown",
   "id": "52e8ae9b",
   "metadata": {},
   "source": [
    "# 2. Separate features and target"
   ]
  },
  {
   "cell_type": "code",
   "execution_count": 7,
   "id": "ec0c6982",
   "metadata": {},
   "outputs": [],
   "source": [
    "# Assuming the last column is the target variable 'sales'\n",
    "\n",
    "X = df_file.drop(\"sales\", axis=1)  # All columns except last\n",
    "y = df_file[\"sales\"]     # Last column as target\n",
    "\n"
   ]
  },
  {
   "cell_type": "markdown",
   "id": "908e2f9e",
   "metadata": {},
   "source": [
    "# Feature Scaling"
   ]
  },
  {
   "cell_type": "code",
   "execution_count": 8,
   "id": "87b783f7",
   "metadata": {},
   "outputs": [],
   "source": [
    "\n",
    "scaler = StandardScaler()\n",
    "\n",
    "# Select only numeric columns (excluding 'date')\n",
    "X_numeric = X.drop(columns=['date', 'state_holiday'])\n",
    "\n",
    "# Fit and transform the numeric data\n",
    "X_scaled = scaler.fit_transform(X_numeric)\n",
    "\n",
    "# create a DataFrame with the same column names\n",
    "X_scaled_df = pd.DataFrame(X_scaled, columns=X_numeric.columns)\n",
    "\n",
    "# If you still want to keep the date column, you can reattach it:\n",
    "X_scaled_df = pd.concat([X[['date', 'state_holiday']].reset_index(drop=True), X_scaled_df], axis=1)\n"
   ]
  },
  {
   "cell_type": "markdown",
   "id": "bdadfc3f",
   "metadata": {},
   "source": [
    "# Train/Test Split"
   ]
  },
  {
   "cell_type": "code",
   "execution_count": 9,
   "id": "0fd34e4f",
   "metadata": {},
   "outputs": [],
   "source": [
    "from sklearn.model_selection import train_test_split\n",
    "\n",
    "X_train, X_test, y_train, y_test = train_test_split(X_scaled, y, test_size=0.2, random_state=42)"
   ]
  },
  {
   "cell_type": "markdown",
   "id": "50af8b96",
   "metadata": {},
   "source": [
    "#LinearRegression model creation"
   ]
  },
  {
   "cell_type": "code",
   "execution_count": 10,
   "id": "3d3fd560",
   "metadata": {},
   "outputs": [],
   "source": [
    "model = LinearRegression()\n",
    "model.fit(X_train, y_train)\n",
    "y_pred = model.predict(X_test)\n",
    "\n"
   ]
  },
  {
   "cell_type": "code",
   "execution_count": 11,
   "id": "4973999d",
   "metadata": {},
   "outputs": [
    {
     "name": "stdout",
     "output_type": "stream",
     "text": [
      "Intercept: 5778.2247951062445\n",
      "\n",
      "Coefficients: [ -46.57158123 -111.95467981 2823.08862825  627.34964717  620.87969028\n",
      "    6.77278655]\n"
     ]
    }
   ],
   "source": [
    "coefficients = model.coef_\n",
    "intercept = model.intercept_\n",
    "\n",
    "print(\"Intercept:\", intercept)\n",
    "print(\"\\nCoefficients:\", coefficients)"
   ]
  },
  {
   "cell_type": "markdown",
   "id": "0475a58b",
   "metadata": {},
   "source": [
    "#Evaluation"
   ]
  },
  {
   "cell_type": "code",
   "execution_count": 12,
   "id": "3cb23e76",
   "metadata": {},
   "outputs": [
    {
     "name": "stdout",
     "output_type": "stream",
     "text": [
      "Train/Test Split Evaluation:\n",
      "MSE: 2216130.382466229\n",
      "MAE: 992.2926713242842\n",
      "R2: 0.8500756894871744\n"
     ]
    }
   ],
   "source": [
    "from sklearn.metrics import mean_absolute_error\n",
    "# Evaluate\n",
    "print(\"Train/Test Split Evaluation:\")\n",
    "print(\"MSE:\", mean_squared_error(y_test, y_pred))\n",
    "\n",
    "print(\"MAE:\", mean_absolute_error(y_test, y_pred))\n",
    "\n",
    "print(\"R2:\", r2_score(y_test, y_pred))"
   ]
  },
  {
   "cell_type": "markdown",
   "id": "f62ed753",
   "metadata": {},
   "source": [
    "'K-FOLD CROSS VALIDATION MODULE CHECK"
   ]
  },
  {
   "cell_type": "code",
   "execution_count": 13,
   "id": "fbb28cfe",
   "metadata": {},
   "outputs": [
    {
     "name": "stdout",
     "output_type": "stream",
     "text": [
      "\n",
      "K-Fold Cross Validation (5 folds):\n",
      "Average MSE: 2191760.337402156\n",
      "Average R2: 0.8522335896131737\n"
     ]
    }
   ],
   "source": [
    "from sklearn.model_selection import train_test_split, cross_val_score, KFold\n",
    "\n",
    "kf = KFold(n_splits=5, shuffle=True, random_state=42)\n",
    "mse_scores = -cross_val_score(model, X_scaled, y, cv=kf, scoring='neg_mean_squared_error')\n",
    "r2_scores = cross_val_score(model, X_scaled, y, cv=kf, scoring='r2')\n",
    "\n",
    "print(\"\\nK-Fold Cross Validation (5 folds):\")\n",
    "print(\"Average MSE:\", mse_scores.mean())\n",
    "print(\"Average R2:\", r2_scores.mean())"
   ]
  },
  {
   "cell_type": "markdown",
   "id": "fbf5e4b1",
   "metadata": {},
   "source": [
    "#Validating with the REAL_DATA"
   ]
  },
  {
   "cell_type": "code",
   "execution_count": 14,
   "id": "644164cd",
   "metadata": {},
   "outputs": [
    {
     "name": "stdout",
     "output_type": "stream",
     "text": [
      "index                  0\n",
      "store_ID               0\n",
      "day_of_week            0\n",
      "date                   0\n",
      "nb_customers_on_day    0\n",
      "open                   0\n",
      "promotion              0\n",
      "state_holiday          0\n",
      "school_holiday         0\n",
      "dtype: int64\n",
      "index                  0\n",
      "store_ID               0\n",
      "day_of_week            0\n",
      "date                   0\n",
      "nb_customers_on_day    0\n",
      "open                   0\n",
      "promotion              0\n",
      "state_holiday          0\n",
      "school_holiday         0\n",
      "dtype: int64\n",
      "               index      store_ID   day_of_week  \\\n",
      "count   28387.000000  28387.000000  28387.000000   \n",
      "mean   355927.439145    559.510234      3.992990   \n",
      "min        56.000000      1.000000      1.000000   \n",
      "25%    177538.000000    282.000000      2.000000   \n",
      "50%    355264.000000    558.000000      4.000000   \n",
      "75%    535662.500000    839.500000      6.000000   \n",
      "max    711965.000000   1115.000000      7.000000   \n",
      "std    206016.278028    321.677601      1.999679   \n",
      "\n",
      "                                date  nb_customers_on_day          open  \\\n",
      "count                          28387         28387.000000  28387.000000   \n",
      "mean   2014-04-22 17:55:31.398175232           630.668933      0.817346   \n",
      "min              2013-01-01 00:00:00             0.000000      0.000000   \n",
      "25%              2013-08-08 00:00:00           394.000000      1.000000   \n",
      "50%              2014-04-05 00:00:00           613.000000      1.000000   \n",
      "75%              2014-12-06 00:00:00           844.000000      1.000000   \n",
      "max              2015-12-07 00:00:00          5494.000000      1.000000   \n",
      "std                              NaN           471.311486      0.386389   \n",
      "\n",
      "          promotion  school_holiday  \n",
      "count  28387.000000    28387.000000  \n",
      "mean       0.409448        0.175996  \n",
      "min        0.000000        0.000000  \n",
      "25%        0.000000        0.000000  \n",
      "50%        0.000000        0.000000  \n",
      "75%        1.000000        0.000000  \n",
      "max        1.000000        1.000000  \n",
      "std        0.491741        0.380824  \n"
     ]
    }
   ],
   "source": [
    "df_real_file = pd.read_csv(\"REAL_DATA.csv\")\n",
    "\n",
    "df_real_file.dropna(subset=[\"date\"], inplace=True)\n",
    "df_real_file.isna().sum()\n",
    "\n",
    "#Clean and normalize data: \n",
    "\n",
    "# 1) Drop obvious junk columns (like \"Unnamed: 0\")\n",
    "df_real_file = df_real_file.loc[:, ~df_real_file.columns.str.contains(r'^Unnamed')]\n",
    "\n",
    "# 2) Parse dates\n",
    "\n",
    "print(df_real_file.isna().sum())\n",
    "\n",
    "df_real_file['date'] = pd.to_datetime(df_real_file['date'], errors='coerce')\n",
    "df_real_file.dropna(subset=[\"date\"], inplace=True)\n",
    "print(df_real_file.isna().sum())\n",
    "\n",
    "# Normalize text, handle weird values, then encode\n",
    "sh = (df_real_file['state_holiday']\n",
    "        .astype(str).str.strip().str.lower()\n",
    "        .replace({'false':'0', 'none':'0', 'nan':'0'}))\n",
    "\n",
    "# Option A: keep as a tidy categorical with known levels\n",
    "df_real_file['state_holiday'] = pd.Categorical(sh, categories=['0','a','b','c'])\n",
    "\n",
    "print(df_real_file.describe())\n",
    "\n"
   ]
  },
  {
   "cell_type": "code",
   "execution_count": 15,
   "id": "287de7df",
   "metadata": {},
   "outputs": [],
   "source": [
    "X_real = df_real_file"
   ]
  },
  {
   "cell_type": "code",
   "execution_count": null,
   "id": "64f6b6d4",
   "metadata": {},
   "outputs": [],
   "source": [
    "\n",
    "scaler = StandardScaler()\n",
    "\n",
    "# ...existing code...\n",
    "# Use the same numeric column list and scaler that were used for training\n",
    "num_cols = X_numeric.columns.tolist()   # X_numeric was created during training cell\n",
    "\n",
    "# Ensure real dataframe has exactly the same numeric columns in the same order\n",
    "X_real_numeric = X_real.reindex(columns=num_cols)\n",
    "\n",
    "# Handle missing values (simple fill; replace with your preferred imputer if needed)\n",
    "X_real_numeric = X_real_numeric.fillna(0)\n",
    "\n",
    "# IMPORTANT: use the scaler fitted on training data, do NOT fit again\n",
    "# (the variable `scaler` should be the one fitted earlier)\n",
    "X_real_scaled = scaler.fit_transform(X_real_numeric)\n",
    "\n",
    "# Predict and attach results\n",
    "df_real_file[\"sales\"] = model.predict(X_real_scaled)\n"
   ]
  },
  {
   "cell_type": "code",
   "execution_count": null,
   "id": "add7d6db",
   "metadata": {},
   "outputs": [],
   "source": []
  }
 ],
 "metadata": {
  "kernelspec": {
   "display_name": "Python 3",
   "language": "python",
   "name": "python3"
  },
  "language_info": {
   "codemirror_mode": {
    "name": "ipython",
    "version": 3
   },
   "file_extension": ".py",
   "mimetype": "text/x-python",
   "name": "python",
   "nbconvert_exporter": "python",
   "pygments_lexer": "ipython3",
   "version": "3.10.6"
  }
 },
 "nbformat": 4,
 "nbformat_minor": 5
}
